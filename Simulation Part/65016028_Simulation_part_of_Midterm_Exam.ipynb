{
  "nbformat": 4,
  "nbformat_minor": 0,
  "metadata": {
    "colab": {
      "provenance": []
    },
    "kernelspec": {
      "name": "python3",
      "display_name": "Python 3"
    },
    "language_info": {
      "name": "python"
    }
  },
  "cells": [
    {
      "cell_type": "code",
      "execution_count": 798,
      "metadata": {
        "id": "Az0XYFKl8VyO"
      },
      "outputs": [],
      "source": [
        "import numpy as np\n",
        "import pandas as pd\n",
        "import matplotlib.pyplot as plt\n",
        "from sklearn.metrics import accuracy_score\n",
        "from sklearn.metrics import roc_auc_score\n",
        "from sklearn.metrics import classification_report\n",
        "from sklearn.feature_extraction import DictVectorizer\n",
        "%matplotlib inline"
      ]
    },
    {
      "cell_type": "markdown",
      "source": [
        "# Dataset"
      ],
      "metadata": {
        "id": "TM3mmCCIDs0P"
      }
    },
    {
      "cell_type": "code",
      "source": [
        "!wget https://raw.githubusercontent.com/ChaiyotMix/Test/main/Simulation%20Part/Bank%20Customer%20Churn%20Prediction.csv"
      ],
      "metadata": {
        "colab": {
          "base_uri": "https://localhost:8080/"
        },
        "id": "Ik1EFQvIDip6",
        "outputId": "534c30c8-9df6-45c0-e702-80ebee95ea70"
      },
      "execution_count": 2,
      "outputs": [
        {
          "output_type": "stream",
          "name": "stdout",
          "text": [
            "--2022-10-09 15:56:01--  https://raw.githubusercontent.com/ChaiyotMix/Test/main/Simulation%20Part/Bank%20Customer%20Churn%20Prediction.csv\n",
            "Resolving raw.githubusercontent.com (raw.githubusercontent.com)... 185.199.109.133, 185.199.111.133, 185.199.108.133, ...\n",
            "Connecting to raw.githubusercontent.com (raw.githubusercontent.com)|185.199.109.133|:443... connected.\n",
            "HTTP request sent, awaiting response... 200 OK\n",
            "Length: 561600 (548K) [text/plain]\n",
            "Saving to: ‘Bank Customer Churn Prediction.csv’\n",
            "\n",
            "Bank Customer Churn 100%[===================>] 548.44K  --.-KB/s    in 0.03s   \n",
            "\n",
            "2022-10-09 15:56:01 (16.6 MB/s) - ‘Bank Customer Churn Prediction.csv’ saved [561600/561600]\n",
            "\n"
          ]
        }
      ]
    },
    {
      "cell_type": "code",
      "source": [
        "df = pd.read_csv('Bank Customer Churn Prediction.csv')"
      ],
      "metadata": {
        "id": "hW2h5otdBbTR"
      },
      "execution_count": 1018,
      "outputs": []
    },
    {
      "cell_type": "code",
      "source": [
        "df.head()"
      ],
      "metadata": {
        "colab": {
          "base_uri": "https://localhost:8080/",
          "height": 206
        },
        "id": "LjWN2NFQBeYm",
        "outputId": "7812f007-8aa0-4b0a-d924-592ef24da949"
      },
      "execution_count": 1019,
      "outputs": [
        {
          "output_type": "execute_result",
          "data": {
            "text/plain": [
              "   customer_id  credit_score country  gender  age  tenure    balance  \\\n",
              "0     15634602           619  France  Female   42       2       0.00   \n",
              "1     15647311           608   Spain  Female   41       1   83807.86   \n",
              "2     15619304           502  France  Female   42       8  159660.80   \n",
              "3     15701354           699  France  Female   39       1       0.00   \n",
              "4     15737888           850   Spain  Female   43       2  125510.82   \n",
              "\n",
              "   products_number  credit_card  active_member  estimated_salary  churn  \n",
              "0                1            1              1         101348.88      1  \n",
              "1                1            0              1         112542.58      0  \n",
              "2                3            1              0         113931.57      1  \n",
              "3                2            0              0          93826.63      0  \n",
              "4                1            1              1          79084.10      0  "
            ],
            "text/html": [
              "\n",
              "  <div id=\"df-a12bc7ba-2915-41ca-ae68-d2d24023a178\">\n",
              "    <div class=\"colab-df-container\">\n",
              "      <div>\n",
              "<style scoped>\n",
              "    .dataframe tbody tr th:only-of-type {\n",
              "        vertical-align: middle;\n",
              "    }\n",
              "\n",
              "    .dataframe tbody tr th {\n",
              "        vertical-align: top;\n",
              "    }\n",
              "\n",
              "    .dataframe thead th {\n",
              "        text-align: right;\n",
              "    }\n",
              "</style>\n",
              "<table border=\"1\" class=\"dataframe\">\n",
              "  <thead>\n",
              "    <tr style=\"text-align: right;\">\n",
              "      <th></th>\n",
              "      <th>customer_id</th>\n",
              "      <th>credit_score</th>\n",
              "      <th>country</th>\n",
              "      <th>gender</th>\n",
              "      <th>age</th>\n",
              "      <th>tenure</th>\n",
              "      <th>balance</th>\n",
              "      <th>products_number</th>\n",
              "      <th>credit_card</th>\n",
              "      <th>active_member</th>\n",
              "      <th>estimated_salary</th>\n",
              "      <th>churn</th>\n",
              "    </tr>\n",
              "  </thead>\n",
              "  <tbody>\n",
              "    <tr>\n",
              "      <th>0</th>\n",
              "      <td>15634602</td>\n",
              "      <td>619</td>\n",
              "      <td>France</td>\n",
              "      <td>Female</td>\n",
              "      <td>42</td>\n",
              "      <td>2</td>\n",
              "      <td>0.00</td>\n",
              "      <td>1</td>\n",
              "      <td>1</td>\n",
              "      <td>1</td>\n",
              "      <td>101348.88</td>\n",
              "      <td>1</td>\n",
              "    </tr>\n",
              "    <tr>\n",
              "      <th>1</th>\n",
              "      <td>15647311</td>\n",
              "      <td>608</td>\n",
              "      <td>Spain</td>\n",
              "      <td>Female</td>\n",
              "      <td>41</td>\n",
              "      <td>1</td>\n",
              "      <td>83807.86</td>\n",
              "      <td>1</td>\n",
              "      <td>0</td>\n",
              "      <td>1</td>\n",
              "      <td>112542.58</td>\n",
              "      <td>0</td>\n",
              "    </tr>\n",
              "    <tr>\n",
              "      <th>2</th>\n",
              "      <td>15619304</td>\n",
              "      <td>502</td>\n",
              "      <td>France</td>\n",
              "      <td>Female</td>\n",
              "      <td>42</td>\n",
              "      <td>8</td>\n",
              "      <td>159660.80</td>\n",
              "      <td>3</td>\n",
              "      <td>1</td>\n",
              "      <td>0</td>\n",
              "      <td>113931.57</td>\n",
              "      <td>1</td>\n",
              "    </tr>\n",
              "    <tr>\n",
              "      <th>3</th>\n",
              "      <td>15701354</td>\n",
              "      <td>699</td>\n",
              "      <td>France</td>\n",
              "      <td>Female</td>\n",
              "      <td>39</td>\n",
              "      <td>1</td>\n",
              "      <td>0.00</td>\n",
              "      <td>2</td>\n",
              "      <td>0</td>\n",
              "      <td>0</td>\n",
              "      <td>93826.63</td>\n",
              "      <td>0</td>\n",
              "    </tr>\n",
              "    <tr>\n",
              "      <th>4</th>\n",
              "      <td>15737888</td>\n",
              "      <td>850</td>\n",
              "      <td>Spain</td>\n",
              "      <td>Female</td>\n",
              "      <td>43</td>\n",
              "      <td>2</td>\n",
              "      <td>125510.82</td>\n",
              "      <td>1</td>\n",
              "      <td>1</td>\n",
              "      <td>1</td>\n",
              "      <td>79084.10</td>\n",
              "      <td>0</td>\n",
              "    </tr>\n",
              "  </tbody>\n",
              "</table>\n",
              "</div>\n",
              "      <button class=\"colab-df-convert\" onclick=\"convertToInteractive('df-a12bc7ba-2915-41ca-ae68-d2d24023a178')\"\n",
              "              title=\"Convert this dataframe to an interactive table.\"\n",
              "              style=\"display:none;\">\n",
              "        \n",
              "  <svg xmlns=\"http://www.w3.org/2000/svg\" height=\"24px\"viewBox=\"0 0 24 24\"\n",
              "       width=\"24px\">\n",
              "    <path d=\"M0 0h24v24H0V0z\" fill=\"none\"/>\n",
              "    <path d=\"M18.56 5.44l.94 2.06.94-2.06 2.06-.94-2.06-.94-.94-2.06-.94 2.06-2.06.94zm-11 1L8.5 8.5l.94-2.06 2.06-.94-2.06-.94L8.5 2.5l-.94 2.06-2.06.94zm10 10l.94 2.06.94-2.06 2.06-.94-2.06-.94-.94-2.06-.94 2.06-2.06.94z\"/><path d=\"M17.41 7.96l-1.37-1.37c-.4-.4-.92-.59-1.43-.59-.52 0-1.04.2-1.43.59L10.3 9.45l-7.72 7.72c-.78.78-.78 2.05 0 2.83L4 21.41c.39.39.9.59 1.41.59.51 0 1.02-.2 1.41-.59l7.78-7.78 2.81-2.81c.8-.78.8-2.07 0-2.86zM5.41 20L4 18.59l7.72-7.72 1.47 1.35L5.41 20z\"/>\n",
              "  </svg>\n",
              "      </button>\n",
              "      \n",
              "  <style>\n",
              "    .colab-df-container {\n",
              "      display:flex;\n",
              "      flex-wrap:wrap;\n",
              "      gap: 12px;\n",
              "    }\n",
              "\n",
              "    .colab-df-convert {\n",
              "      background-color: #E8F0FE;\n",
              "      border: none;\n",
              "      border-radius: 50%;\n",
              "      cursor: pointer;\n",
              "      display: none;\n",
              "      fill: #1967D2;\n",
              "      height: 32px;\n",
              "      padding: 0 0 0 0;\n",
              "      width: 32px;\n",
              "    }\n",
              "\n",
              "    .colab-df-convert:hover {\n",
              "      background-color: #E2EBFA;\n",
              "      box-shadow: 0px 1px 2px rgba(60, 64, 67, 0.3), 0px 1px 3px 1px rgba(60, 64, 67, 0.15);\n",
              "      fill: #174EA6;\n",
              "    }\n",
              "\n",
              "    [theme=dark] .colab-df-convert {\n",
              "      background-color: #3B4455;\n",
              "      fill: #D2E3FC;\n",
              "    }\n",
              "\n",
              "    [theme=dark] .colab-df-convert:hover {\n",
              "      background-color: #434B5C;\n",
              "      box-shadow: 0px 1px 3px 1px rgba(0, 0, 0, 0.15);\n",
              "      filter: drop-shadow(0px 1px 2px rgba(0, 0, 0, 0.3));\n",
              "      fill: #FFFFFF;\n",
              "    }\n",
              "  </style>\n",
              "\n",
              "      <script>\n",
              "        const buttonEl =\n",
              "          document.querySelector('#df-a12bc7ba-2915-41ca-ae68-d2d24023a178 button.colab-df-convert');\n",
              "        buttonEl.style.display =\n",
              "          google.colab.kernel.accessAllowed ? 'block' : 'none';\n",
              "\n",
              "        async function convertToInteractive(key) {\n",
              "          const element = document.querySelector('#df-a12bc7ba-2915-41ca-ae68-d2d24023a178');\n",
              "          const dataTable =\n",
              "            await google.colab.kernel.invokeFunction('convertToInteractive',\n",
              "                                                     [key], {});\n",
              "          if (!dataTable) return;\n",
              "\n",
              "          const docLinkHtml = 'Like what you see? Visit the ' +\n",
              "            '<a target=\"_blank\" href=https://colab.research.google.com/notebooks/data_table.ipynb>data table notebook</a>'\n",
              "            + ' to learn more about interactive tables.';\n",
              "          element.innerHTML = '';\n",
              "          dataTable['output_type'] = 'display_data';\n",
              "          await google.colab.output.renderOutput(dataTable, element);\n",
              "          const docLink = document.createElement('div');\n",
              "          docLink.innerHTML = docLinkHtml;\n",
              "          element.appendChild(docLink);\n",
              "        }\n",
              "      </script>\n",
              "    </div>\n",
              "  </div>\n",
              "  "
            ]
          },
          "metadata": {},
          "execution_count": 1019
        }
      ]
    },
    {
      "cell_type": "markdown",
      "source": [
        "# Features Engineering"
      ],
      "metadata": {
        "id": "eeyK0KKSqP64"
      }
    },
    {
      "cell_type": "code",
      "source": [
        "df = df.fillna(0)\n",
        "df['tenure'] = df['tenure'].replace(0,1)"
      ],
      "metadata": {
        "id": "rwIbh5gOem0Z"
      },
      "execution_count": 1020,
      "outputs": []
    },
    {
      "cell_type": "code",
      "source": [
        "df['avg_balance_per_year'] = df['balance']/df['tenure']"
      ],
      "metadata": {
        "id": "4QNmgkm4OEGR"
      },
      "execution_count": 1021,
      "outputs": []
    },
    {
      "cell_type": "code",
      "source": [
        "df.head()"
      ],
      "metadata": {
        "colab": {
          "base_uri": "https://localhost:8080/",
          "height": 206
        },
        "id": "9PJib5nxOfQw",
        "outputId": "8a169486-8f5e-4b31-aca9-bddaa147ef0d"
      },
      "execution_count": 1022,
      "outputs": [
        {
          "output_type": "execute_result",
          "data": {
            "text/plain": [
              "   customer_id  credit_score country  gender  age  tenure    balance  \\\n",
              "0     15634602           619  France  Female   42       2       0.00   \n",
              "1     15647311           608   Spain  Female   41       1   83807.86   \n",
              "2     15619304           502  France  Female   42       8  159660.80   \n",
              "3     15701354           699  France  Female   39       1       0.00   \n",
              "4     15737888           850   Spain  Female   43       2  125510.82   \n",
              "\n",
              "   products_number  credit_card  active_member  estimated_salary  churn  \\\n",
              "0                1            1              1         101348.88      1   \n",
              "1                1            0              1         112542.58      0   \n",
              "2                3            1              0         113931.57      1   \n",
              "3                2            0              0          93826.63      0   \n",
              "4                1            1              1          79084.10      0   \n",
              "\n",
              "   avg_balance_per_year  \n",
              "0                  0.00  \n",
              "1              83807.86  \n",
              "2              19957.60  \n",
              "3                  0.00  \n",
              "4              62755.41  "
            ],
            "text/html": [
              "\n",
              "  <div id=\"df-e9816a48-1bb8-4bcc-ae48-df5fd4770b27\">\n",
              "    <div class=\"colab-df-container\">\n",
              "      <div>\n",
              "<style scoped>\n",
              "    .dataframe tbody tr th:only-of-type {\n",
              "        vertical-align: middle;\n",
              "    }\n",
              "\n",
              "    .dataframe tbody tr th {\n",
              "        vertical-align: top;\n",
              "    }\n",
              "\n",
              "    .dataframe thead th {\n",
              "        text-align: right;\n",
              "    }\n",
              "</style>\n",
              "<table border=\"1\" class=\"dataframe\">\n",
              "  <thead>\n",
              "    <tr style=\"text-align: right;\">\n",
              "      <th></th>\n",
              "      <th>customer_id</th>\n",
              "      <th>credit_score</th>\n",
              "      <th>country</th>\n",
              "      <th>gender</th>\n",
              "      <th>age</th>\n",
              "      <th>tenure</th>\n",
              "      <th>balance</th>\n",
              "      <th>products_number</th>\n",
              "      <th>credit_card</th>\n",
              "      <th>active_member</th>\n",
              "      <th>estimated_salary</th>\n",
              "      <th>churn</th>\n",
              "      <th>avg_balance_per_year</th>\n",
              "    </tr>\n",
              "  </thead>\n",
              "  <tbody>\n",
              "    <tr>\n",
              "      <th>0</th>\n",
              "      <td>15634602</td>\n",
              "      <td>619</td>\n",
              "      <td>France</td>\n",
              "      <td>Female</td>\n",
              "      <td>42</td>\n",
              "      <td>2</td>\n",
              "      <td>0.00</td>\n",
              "      <td>1</td>\n",
              "      <td>1</td>\n",
              "      <td>1</td>\n",
              "      <td>101348.88</td>\n",
              "      <td>1</td>\n",
              "      <td>0.00</td>\n",
              "    </tr>\n",
              "    <tr>\n",
              "      <th>1</th>\n",
              "      <td>15647311</td>\n",
              "      <td>608</td>\n",
              "      <td>Spain</td>\n",
              "      <td>Female</td>\n",
              "      <td>41</td>\n",
              "      <td>1</td>\n",
              "      <td>83807.86</td>\n",
              "      <td>1</td>\n",
              "      <td>0</td>\n",
              "      <td>1</td>\n",
              "      <td>112542.58</td>\n",
              "      <td>0</td>\n",
              "      <td>83807.86</td>\n",
              "    </tr>\n",
              "    <tr>\n",
              "      <th>2</th>\n",
              "      <td>15619304</td>\n",
              "      <td>502</td>\n",
              "      <td>France</td>\n",
              "      <td>Female</td>\n",
              "      <td>42</td>\n",
              "      <td>8</td>\n",
              "      <td>159660.80</td>\n",
              "      <td>3</td>\n",
              "      <td>1</td>\n",
              "      <td>0</td>\n",
              "      <td>113931.57</td>\n",
              "      <td>1</td>\n",
              "      <td>19957.60</td>\n",
              "    </tr>\n",
              "    <tr>\n",
              "      <th>3</th>\n",
              "      <td>15701354</td>\n",
              "      <td>699</td>\n",
              "      <td>France</td>\n",
              "      <td>Female</td>\n",
              "      <td>39</td>\n",
              "      <td>1</td>\n",
              "      <td>0.00</td>\n",
              "      <td>2</td>\n",
              "      <td>0</td>\n",
              "      <td>0</td>\n",
              "      <td>93826.63</td>\n",
              "      <td>0</td>\n",
              "      <td>0.00</td>\n",
              "    </tr>\n",
              "    <tr>\n",
              "      <th>4</th>\n",
              "      <td>15737888</td>\n",
              "      <td>850</td>\n",
              "      <td>Spain</td>\n",
              "      <td>Female</td>\n",
              "      <td>43</td>\n",
              "      <td>2</td>\n",
              "      <td>125510.82</td>\n",
              "      <td>1</td>\n",
              "      <td>1</td>\n",
              "      <td>1</td>\n",
              "      <td>79084.10</td>\n",
              "      <td>0</td>\n",
              "      <td>62755.41</td>\n",
              "    </tr>\n",
              "  </tbody>\n",
              "</table>\n",
              "</div>\n",
              "      <button class=\"colab-df-convert\" onclick=\"convertToInteractive('df-e9816a48-1bb8-4bcc-ae48-df5fd4770b27')\"\n",
              "              title=\"Convert this dataframe to an interactive table.\"\n",
              "              style=\"display:none;\">\n",
              "        \n",
              "  <svg xmlns=\"http://www.w3.org/2000/svg\" height=\"24px\"viewBox=\"0 0 24 24\"\n",
              "       width=\"24px\">\n",
              "    <path d=\"M0 0h24v24H0V0z\" fill=\"none\"/>\n",
              "    <path d=\"M18.56 5.44l.94 2.06.94-2.06 2.06-.94-2.06-.94-.94-2.06-.94 2.06-2.06.94zm-11 1L8.5 8.5l.94-2.06 2.06-.94-2.06-.94L8.5 2.5l-.94 2.06-2.06.94zm10 10l.94 2.06.94-2.06 2.06-.94-2.06-.94-.94-2.06-.94 2.06-2.06.94z\"/><path d=\"M17.41 7.96l-1.37-1.37c-.4-.4-.92-.59-1.43-.59-.52 0-1.04.2-1.43.59L10.3 9.45l-7.72 7.72c-.78.78-.78 2.05 0 2.83L4 21.41c.39.39.9.59 1.41.59.51 0 1.02-.2 1.41-.59l7.78-7.78 2.81-2.81c.8-.78.8-2.07 0-2.86zM5.41 20L4 18.59l7.72-7.72 1.47 1.35L5.41 20z\"/>\n",
              "  </svg>\n",
              "      </button>\n",
              "      \n",
              "  <style>\n",
              "    .colab-df-container {\n",
              "      display:flex;\n",
              "      flex-wrap:wrap;\n",
              "      gap: 12px;\n",
              "    }\n",
              "\n",
              "    .colab-df-convert {\n",
              "      background-color: #E8F0FE;\n",
              "      border: none;\n",
              "      border-radius: 50%;\n",
              "      cursor: pointer;\n",
              "      display: none;\n",
              "      fill: #1967D2;\n",
              "      height: 32px;\n",
              "      padding: 0 0 0 0;\n",
              "      width: 32px;\n",
              "    }\n",
              "\n",
              "    .colab-df-convert:hover {\n",
              "      background-color: #E2EBFA;\n",
              "      box-shadow: 0px 1px 2px rgba(60, 64, 67, 0.3), 0px 1px 3px 1px rgba(60, 64, 67, 0.15);\n",
              "      fill: #174EA6;\n",
              "    }\n",
              "\n",
              "    [theme=dark] .colab-df-convert {\n",
              "      background-color: #3B4455;\n",
              "      fill: #D2E3FC;\n",
              "    }\n",
              "\n",
              "    [theme=dark] .colab-df-convert:hover {\n",
              "      background-color: #434B5C;\n",
              "      box-shadow: 0px 1px 3px 1px rgba(0, 0, 0, 0.15);\n",
              "      filter: drop-shadow(0px 1px 2px rgba(0, 0, 0, 0.3));\n",
              "      fill: #FFFFFF;\n",
              "    }\n",
              "  </style>\n",
              "\n",
              "      <script>\n",
              "        const buttonEl =\n",
              "          document.querySelector('#df-e9816a48-1bb8-4bcc-ae48-df5fd4770b27 button.colab-df-convert');\n",
              "        buttonEl.style.display =\n",
              "          google.colab.kernel.accessAllowed ? 'block' : 'none';\n",
              "\n",
              "        async function convertToInteractive(key) {\n",
              "          const element = document.querySelector('#df-e9816a48-1bb8-4bcc-ae48-df5fd4770b27');\n",
              "          const dataTable =\n",
              "            await google.colab.kernel.invokeFunction('convertToInteractive',\n",
              "                                                     [key], {});\n",
              "          if (!dataTable) return;\n",
              "\n",
              "          const docLinkHtml = 'Like what you see? Visit the ' +\n",
              "            '<a target=\"_blank\" href=https://colab.research.google.com/notebooks/data_table.ipynb>data table notebook</a>'\n",
              "            + ' to learn more about interactive tables.';\n",
              "          element.innerHTML = '';\n",
              "          dataTable['output_type'] = 'display_data';\n",
              "          await google.colab.output.renderOutput(dataTable, element);\n",
              "          const docLink = document.createElement('div');\n",
              "          docLink.innerHTML = docLinkHtml;\n",
              "          element.appendChild(docLink);\n",
              "        }\n",
              "      </script>\n",
              "    </div>\n",
              "  </div>\n",
              "  "
            ]
          },
          "metadata": {},
          "execution_count": 1022
        }
      ]
    },
    {
      "cell_type": "code",
      "source": [
        "len(df)"
      ],
      "metadata": {
        "colab": {
          "base_uri": "https://localhost:8080/"
        },
        "id": "jR-hVJAyIf2T",
        "outputId": "464b72bd-8a30-4b79-c681-f2502a2b04f9"
      },
      "execution_count": 1023,
      "outputs": [
        {
          "output_type": "execute_result",
          "data": {
            "text/plain": [
              "10000"
            ]
          },
          "metadata": {},
          "execution_count": 1023
        }
      ]
    },
    {
      "cell_type": "code",
      "source": [
        "df_ref = df.copy()"
      ],
      "metadata": {
        "id": "_EtDd4lGEmHZ"
      },
      "execution_count": 1024,
      "outputs": []
    },
    {
      "cell_type": "code",
      "source": [
        "df.info()"
      ],
      "metadata": {
        "colab": {
          "base_uri": "https://localhost:8080/"
        },
        "id": "IIm64erLSK_i",
        "outputId": "e43babd6-15c6-419e-a668-c33dfb5d9071"
      },
      "execution_count": 1025,
      "outputs": [
        {
          "output_type": "stream",
          "name": "stdout",
          "text": [
            "<class 'pandas.core.frame.DataFrame'>\n",
            "RangeIndex: 10000 entries, 0 to 9999\n",
            "Data columns (total 13 columns):\n",
            " #   Column                Non-Null Count  Dtype  \n",
            "---  ------                --------------  -----  \n",
            " 0   customer_id           10000 non-null  int64  \n",
            " 1   credit_score          10000 non-null  int64  \n",
            " 2   country               10000 non-null  object \n",
            " 3   gender                10000 non-null  object \n",
            " 4   age                   10000 non-null  int64  \n",
            " 5   tenure                10000 non-null  int64  \n",
            " 6   balance               10000 non-null  float64\n",
            " 7   products_number       10000 non-null  int64  \n",
            " 8   credit_card           10000 non-null  int64  \n",
            " 9   active_member         10000 non-null  int64  \n",
            " 10  estimated_salary      10000 non-null  float64\n",
            " 11  churn                 10000 non-null  int64  \n",
            " 12  avg_balance_per_year  10000 non-null  float64\n",
            "dtypes: float64(3), int64(8), object(2)\n",
            "memory usage: 1015.8+ KB\n"
          ]
        }
      ]
    },
    {
      "cell_type": "code",
      "source": [
        "del df['customer_id']"
      ],
      "metadata": {
        "id": "ZAtE8FLwHYBq"
      },
      "execution_count": 1026,
      "outputs": []
    },
    {
      "cell_type": "code",
      "source": [
        "df['credit_score_bin'] = pd.cut(df['credit_score'],5)\n",
        "df['age_bin'] = pd.cut(df['age'],5)"
      ],
      "metadata": {
        "id": "F47U_cKpQ6nV"
      },
      "execution_count": 1027,
      "outputs": []
    },
    {
      "cell_type": "code",
      "source": [
        "df['credit_score_bin'] = df.credit_score_bin.astype(str)\n",
        "df['age_bin'] = df.age_bin.astype(str)"
      ],
      "metadata": {
        "id": "0vqngGo3Yvy7"
      },
      "execution_count": 1028,
      "outputs": []
    },
    {
      "cell_type": "code",
      "source": [
        "df.head()"
      ],
      "metadata": {
        "colab": {
          "base_uri": "https://localhost:8080/",
          "height": 206
        },
        "id": "Jz7p3zooFzDJ",
        "outputId": "07e2550e-bb31-4cae-c871-0b5d0ec7347b"
      },
      "execution_count": 1029,
      "outputs": [
        {
          "output_type": "execute_result",
          "data": {
            "text/plain": [
              "   credit_score country  gender  age  tenure    balance  products_number  \\\n",
              "0           619  France  Female   42       2       0.00                1   \n",
              "1           608   Spain  Female   41       1   83807.86                1   \n",
              "2           502  France  Female   42       8  159660.80                3   \n",
              "3           699  France  Female   39       1       0.00                2   \n",
              "4           850   Spain  Female   43       2  125510.82                1   \n",
              "\n",
              "   credit_card  active_member  estimated_salary  churn  avg_balance_per_year  \\\n",
              "0            1              1         101348.88      1                  0.00   \n",
              "1            0              1         112542.58      0              83807.86   \n",
              "2            1              0         113931.57      1              19957.60   \n",
              "3            0              0          93826.63      0                  0.00   \n",
              "4            1              1          79084.10      0              62755.41   \n",
              "\n",
              "  credit_score_bin       age_bin  \n",
              "0   (550.0, 650.0]  (32.8, 47.6]  \n",
              "1   (550.0, 650.0]  (32.8, 47.6]  \n",
              "2   (450.0, 550.0]  (32.8, 47.6]  \n",
              "3   (650.0, 750.0]  (32.8, 47.6]  \n",
              "4   (750.0, 850.0]  (32.8, 47.6]  "
            ],
            "text/html": [
              "\n",
              "  <div id=\"df-1c1a0487-9131-4dcd-aa43-81cd1430ea46\">\n",
              "    <div class=\"colab-df-container\">\n",
              "      <div>\n",
              "<style scoped>\n",
              "    .dataframe tbody tr th:only-of-type {\n",
              "        vertical-align: middle;\n",
              "    }\n",
              "\n",
              "    .dataframe tbody tr th {\n",
              "        vertical-align: top;\n",
              "    }\n",
              "\n",
              "    .dataframe thead th {\n",
              "        text-align: right;\n",
              "    }\n",
              "</style>\n",
              "<table border=\"1\" class=\"dataframe\">\n",
              "  <thead>\n",
              "    <tr style=\"text-align: right;\">\n",
              "      <th></th>\n",
              "      <th>credit_score</th>\n",
              "      <th>country</th>\n",
              "      <th>gender</th>\n",
              "      <th>age</th>\n",
              "      <th>tenure</th>\n",
              "      <th>balance</th>\n",
              "      <th>products_number</th>\n",
              "      <th>credit_card</th>\n",
              "      <th>active_member</th>\n",
              "      <th>estimated_salary</th>\n",
              "      <th>churn</th>\n",
              "      <th>avg_balance_per_year</th>\n",
              "      <th>credit_score_bin</th>\n",
              "      <th>age_bin</th>\n",
              "    </tr>\n",
              "  </thead>\n",
              "  <tbody>\n",
              "    <tr>\n",
              "      <th>0</th>\n",
              "      <td>619</td>\n",
              "      <td>France</td>\n",
              "      <td>Female</td>\n",
              "      <td>42</td>\n",
              "      <td>2</td>\n",
              "      <td>0.00</td>\n",
              "      <td>1</td>\n",
              "      <td>1</td>\n",
              "      <td>1</td>\n",
              "      <td>101348.88</td>\n",
              "      <td>1</td>\n",
              "      <td>0.00</td>\n",
              "      <td>(550.0, 650.0]</td>\n",
              "      <td>(32.8, 47.6]</td>\n",
              "    </tr>\n",
              "    <tr>\n",
              "      <th>1</th>\n",
              "      <td>608</td>\n",
              "      <td>Spain</td>\n",
              "      <td>Female</td>\n",
              "      <td>41</td>\n",
              "      <td>1</td>\n",
              "      <td>83807.86</td>\n",
              "      <td>1</td>\n",
              "      <td>0</td>\n",
              "      <td>1</td>\n",
              "      <td>112542.58</td>\n",
              "      <td>0</td>\n",
              "      <td>83807.86</td>\n",
              "      <td>(550.0, 650.0]</td>\n",
              "      <td>(32.8, 47.6]</td>\n",
              "    </tr>\n",
              "    <tr>\n",
              "      <th>2</th>\n",
              "      <td>502</td>\n",
              "      <td>France</td>\n",
              "      <td>Female</td>\n",
              "      <td>42</td>\n",
              "      <td>8</td>\n",
              "      <td>159660.80</td>\n",
              "      <td>3</td>\n",
              "      <td>1</td>\n",
              "      <td>0</td>\n",
              "      <td>113931.57</td>\n",
              "      <td>1</td>\n",
              "      <td>19957.60</td>\n",
              "      <td>(450.0, 550.0]</td>\n",
              "      <td>(32.8, 47.6]</td>\n",
              "    </tr>\n",
              "    <tr>\n",
              "      <th>3</th>\n",
              "      <td>699</td>\n",
              "      <td>France</td>\n",
              "      <td>Female</td>\n",
              "      <td>39</td>\n",
              "      <td>1</td>\n",
              "      <td>0.00</td>\n",
              "      <td>2</td>\n",
              "      <td>0</td>\n",
              "      <td>0</td>\n",
              "      <td>93826.63</td>\n",
              "      <td>0</td>\n",
              "      <td>0.00</td>\n",
              "      <td>(650.0, 750.0]</td>\n",
              "      <td>(32.8, 47.6]</td>\n",
              "    </tr>\n",
              "    <tr>\n",
              "      <th>4</th>\n",
              "      <td>850</td>\n",
              "      <td>Spain</td>\n",
              "      <td>Female</td>\n",
              "      <td>43</td>\n",
              "      <td>2</td>\n",
              "      <td>125510.82</td>\n",
              "      <td>1</td>\n",
              "      <td>1</td>\n",
              "      <td>1</td>\n",
              "      <td>79084.10</td>\n",
              "      <td>0</td>\n",
              "      <td>62755.41</td>\n",
              "      <td>(750.0, 850.0]</td>\n",
              "      <td>(32.8, 47.6]</td>\n",
              "    </tr>\n",
              "  </tbody>\n",
              "</table>\n",
              "</div>\n",
              "      <button class=\"colab-df-convert\" onclick=\"convertToInteractive('df-1c1a0487-9131-4dcd-aa43-81cd1430ea46')\"\n",
              "              title=\"Convert this dataframe to an interactive table.\"\n",
              "              style=\"display:none;\">\n",
              "        \n",
              "  <svg xmlns=\"http://www.w3.org/2000/svg\" height=\"24px\"viewBox=\"0 0 24 24\"\n",
              "       width=\"24px\">\n",
              "    <path d=\"M0 0h24v24H0V0z\" fill=\"none\"/>\n",
              "    <path d=\"M18.56 5.44l.94 2.06.94-2.06 2.06-.94-2.06-.94-.94-2.06-.94 2.06-2.06.94zm-11 1L8.5 8.5l.94-2.06 2.06-.94-2.06-.94L8.5 2.5l-.94 2.06-2.06.94zm10 10l.94 2.06.94-2.06 2.06-.94-2.06-.94-.94-2.06-.94 2.06-2.06.94z\"/><path d=\"M17.41 7.96l-1.37-1.37c-.4-.4-.92-.59-1.43-.59-.52 0-1.04.2-1.43.59L10.3 9.45l-7.72 7.72c-.78.78-.78 2.05 0 2.83L4 21.41c.39.39.9.59 1.41.59.51 0 1.02-.2 1.41-.59l7.78-7.78 2.81-2.81c.8-.78.8-2.07 0-2.86zM5.41 20L4 18.59l7.72-7.72 1.47 1.35L5.41 20z\"/>\n",
              "  </svg>\n",
              "      </button>\n",
              "      \n",
              "  <style>\n",
              "    .colab-df-container {\n",
              "      display:flex;\n",
              "      flex-wrap:wrap;\n",
              "      gap: 12px;\n",
              "    }\n",
              "\n",
              "    .colab-df-convert {\n",
              "      background-color: #E8F0FE;\n",
              "      border: none;\n",
              "      border-radius: 50%;\n",
              "      cursor: pointer;\n",
              "      display: none;\n",
              "      fill: #1967D2;\n",
              "      height: 32px;\n",
              "      padding: 0 0 0 0;\n",
              "      width: 32px;\n",
              "    }\n",
              "\n",
              "    .colab-df-convert:hover {\n",
              "      background-color: #E2EBFA;\n",
              "      box-shadow: 0px 1px 2px rgba(60, 64, 67, 0.3), 0px 1px 3px 1px rgba(60, 64, 67, 0.15);\n",
              "      fill: #174EA6;\n",
              "    }\n",
              "\n",
              "    [theme=dark] .colab-df-convert {\n",
              "      background-color: #3B4455;\n",
              "      fill: #D2E3FC;\n",
              "    }\n",
              "\n",
              "    [theme=dark] .colab-df-convert:hover {\n",
              "      background-color: #434B5C;\n",
              "      box-shadow: 0px 1px 3px 1px rgba(0, 0, 0, 0.15);\n",
              "      filter: drop-shadow(0px 1px 2px rgba(0, 0, 0, 0.3));\n",
              "      fill: #FFFFFF;\n",
              "    }\n",
              "  </style>\n",
              "\n",
              "      <script>\n",
              "        const buttonEl =\n",
              "          document.querySelector('#df-1c1a0487-9131-4dcd-aa43-81cd1430ea46 button.colab-df-convert');\n",
              "        buttonEl.style.display =\n",
              "          google.colab.kernel.accessAllowed ? 'block' : 'none';\n",
              "\n",
              "        async function convertToInteractive(key) {\n",
              "          const element = document.querySelector('#df-1c1a0487-9131-4dcd-aa43-81cd1430ea46');\n",
              "          const dataTable =\n",
              "            await google.colab.kernel.invokeFunction('convertToInteractive',\n",
              "                                                     [key], {});\n",
              "          if (!dataTable) return;\n",
              "\n",
              "          const docLinkHtml = 'Like what you see? Visit the ' +\n",
              "            '<a target=\"_blank\" href=https://colab.research.google.com/notebooks/data_table.ipynb>data table notebook</a>'\n",
              "            + ' to learn more about interactive tables.';\n",
              "          element.innerHTML = '';\n",
              "          dataTable['output_type'] = 'display_data';\n",
              "          await google.colab.output.renderOutput(dataTable, element);\n",
              "          const docLink = document.createElement('div');\n",
              "          docLink.innerHTML = docLinkHtml;\n",
              "          element.appendChild(docLink);\n",
              "        }\n",
              "      </script>\n",
              "    </div>\n",
              "  </div>\n",
              "  "
            ]
          },
          "metadata": {},
          "execution_count": 1029
        }
      ]
    },
    {
      "cell_type": "markdown",
      "source": [
        "# Preparation"
      ],
      "metadata": {
        "id": "dOaNf57MrDAT"
      }
    },
    {
      "cell_type": "code",
      "source": [
        "X = df.drop([\"churn\"], axis = 1)\n",
        "y = df.churn.values"
      ],
      "metadata": {
        "id": "PYJNEtgmVJeP"
      },
      "execution_count": 1030,
      "outputs": []
    },
    {
      "cell_type": "code",
      "source": [
        "#Split data for training and testing\n",
        "from sklearn.model_selection import train_test_split\n",
        "X_train, X_test, y_train, y_test = train_test_split(X, y, test_size= 0.2 , random_state=6)\n",
        "print(np.size(y_train))\n",
        "print(np.size(y_test))"
      ],
      "metadata": {
        "colab": {
          "base_uri": "https://localhost:8080/"
        },
        "id": "DUt7guqaSyBu",
        "outputId": "fd6ae009-aa94-4e00-94dc-26602a342d1e"
      },
      "execution_count": 1031,
      "outputs": [
        {
          "output_type": "stream",
          "name": "stdout",
          "text": [
            "8000\n",
            "2000\n"
          ]
        }
      ]
    },
    {
      "cell_type": "code",
      "source": [
        "from sklearn.feature_extraction import DictVectorizer\n",
        "dv = DictVectorizer(sparse=False)\n",
        "\n",
        "train_dict = X_train.to_dict(orient='records')\n",
        "X_tran_train = dv.fit_transform(train_dict)\n",
        "\n",
        "test_dict = X_test.to_dict(orient='records')\n",
        "X_tran_test = dv.transform(test_dict)"
      ],
      "metadata": {
        "id": "XYA4ipY_TJGX"
      },
      "execution_count": 1032,
      "outputs": []
    },
    {
      "cell_type": "code",
      "source": [
        "df_X_tran_train = pd.DataFrame(X_tran_train, columns = dv.get_feature_names_out())"
      ],
      "metadata": {
        "id": "mKm0a4qFTwwD"
      },
      "execution_count": 1033,
      "outputs": []
    },
    {
      "cell_type": "code",
      "source": [
        "df_X_tran_train['target'] = y_train "
      ],
      "metadata": {
        "id": "Ihq3Fp_Vaveq"
      },
      "execution_count": 1034,
      "outputs": []
    },
    {
      "cell_type": "code",
      "source": [
        "df_X_tran_train.corr()"
      ],
      "metadata": {
        "id": "_LoUR3DPXW7k",
        "outputId": "77c000b4-e515-44a5-9fd2-490b10c0cc65",
        "colab": {
          "base_uri": "https://localhost:8080/",
          "height": 1000
        }
      },
      "execution_count": 1035,
      "outputs": [
        {
          "output_type": "execute_result",
          "data": {
            "text/plain": [
              "                                 active_member       age  \\\n",
              "active_member                         1.000000  0.083860   \n",
              "age                                   0.083860  1.000000   \n",
              "age_bin=(17.926, 32.8]                0.013363 -0.643061   \n",
              "age_bin=(32.8, 47.6]                 -0.082400 -0.008748   \n",
              "age_bin=(47.6, 62.4]                  0.032558  0.547434   \n",
              "age_bin=(62.4, 77.2]                  0.119323  0.525330   \n",
              "age_bin=(77.2, 92.0]                  0.044015  0.203582   \n",
              "avg_balance_per_year                  0.018333  0.024255   \n",
              "balance                              -0.014448  0.036442   \n",
              "country=France                        0.003308 -0.033614   \n",
              "country=Germany                      -0.021142  0.046464   \n",
              "country=Spain                         0.017450 -0.007861   \n",
              "credit_card                          -0.018932 -0.009133   \n",
              "credit_score                          0.026482 -0.003117   \n",
              "credit_score_bin=(349.5, 450.0]      -0.022855  0.024336   \n",
              "credit_score_bin=(450.0, 550.0]      -0.020009 -0.004112   \n",
              "credit_score_bin=(550.0, 650.0]       0.004567 -0.000188   \n",
              "credit_score_bin=(650.0, 750.0]       0.018252 -0.005748   \n",
              "credit_score_bin=(750.0, 850.0]      -0.001854  0.002478   \n",
              "estimated_salary                     -0.010341 -0.006203   \n",
              "gender=Female                        -0.021326  0.031391   \n",
              "gender=Male                           0.021326 -0.031391   \n",
              "products_number                       0.007689 -0.041256   \n",
              "tenure                               -0.027791 -0.007202   \n",
              "target                               -0.154936  0.288580   \n",
              "\n",
              "                                 age_bin=(17.926, 32.8]  age_bin=(32.8, 47.6]  \\\n",
              "active_member                                  0.013363             -0.082400   \n",
              "age                                           -0.643061             -0.008748   \n",
              "age_bin=(17.926, 32.8]                         1.000000             -0.686088   \n",
              "age_bin=(32.8, 47.6]                          -0.686088              1.000000   \n",
              "age_bin=(47.6, 62.4]                          -0.247075             -0.436166   \n",
              "age_bin=(62.4, 77.2]                          -0.117180             -0.206861   \n",
              "age_bin=(77.2, 92.0]                          -0.031210             -0.055095   \n",
              "avg_balance_per_year                          -0.019426             -0.004176   \n",
              "balance                                       -0.032903             -0.001009   \n",
              "country=France                                 0.034848             -0.010536   \n",
              "country=Germany                               -0.036979             -0.000112   \n",
              "country=Spain                                 -0.003114              0.012307   \n",
              "credit_card                                    0.013498              0.007044   \n",
              "credit_score                                   0.006550              0.002279   \n",
              "credit_score_bin=(349.5, 450.0]               -0.021466              0.001001   \n",
              "credit_score_bin=(450.0, 550.0]                0.008157             -0.004819   \n",
              "credit_score_bin=(550.0, 650.0]               -0.005692             -0.004464   \n",
              "credit_score_bin=(650.0, 750.0]               -0.003023              0.015851   \n",
              "credit_score_bin=(750.0, 850.0]                0.011627             -0.010712   \n",
              "estimated_salary                               0.005007              0.004078   \n",
              "gender=Female                                 -0.013424             -0.014140   \n",
              "gender=Male                                    0.013424              0.014140   \n",
              "products_number                                0.027681              0.007972   \n",
              "tenure                                         0.001942              0.001773   \n",
              "target                                        -0.193151             -0.051978   \n",
              "\n",
              "                                 age_bin=(47.6, 62.4]  age_bin=(62.4, 77.2]  \\\n",
              "active_member                                0.032558              0.119323   \n",
              "age                                          0.547434              0.525330   \n",
              "age_bin=(17.926, 32.8]                      -0.247075             -0.117180   \n",
              "age_bin=(32.8, 47.6]                        -0.436166             -0.206861   \n",
              "age_bin=(47.6, 62.4]                         1.000000             -0.074495   \n",
              "age_bin=(62.4, 77.2]                        -0.074495              1.000000   \n",
              "age_bin=(77.2, 92.0]                        -0.019841             -0.009410   \n",
              "avg_balance_per_year                         0.032584              0.000586   \n",
              "balance                                      0.048117             -0.003387   \n",
              "country=France                              -0.032485              0.001205   \n",
              "country=Germany                              0.054645             -0.009664   \n",
              "country=Spain                               -0.017402              0.008332   \n",
              "credit_card                                 -0.036644              0.016549   \n",
              "credit_score                                -0.017639              0.009222   \n",
              "credit_score_bin=(349.5, 450.0]              0.025925             -0.001611   \n",
              "credit_score_bin=(450.0, 550.0]             -0.005802              0.005685   \n",
              "credit_score_bin=(550.0, 650.0]              0.023488             -0.014137   \n",
              "credit_score_bin=(650.0, 750.0]             -0.023695              0.004331   \n",
              "credit_score_bin=(750.0, 850.0]             -0.003648              0.007766   \n",
              "estimated_salary                            -0.010543             -0.008298   \n",
              "gender=Female                                0.033941              0.006768   \n",
              "gender=Male                                 -0.033941             -0.006768   \n",
              "products_number                             -0.039836             -0.012023   \n",
              "tenure                                      -0.001773             -0.005794   \n",
              "target                                       0.326636              0.009130   \n",
              "\n",
              "                                 age_bin=(77.2, 92.0]  avg_balance_per_year  \\\n",
              "active_member                                0.044015              0.018333   \n",
              "age                                          0.203582              0.024255   \n",
              "age_bin=(17.926, 32.8]                      -0.031210             -0.019426   \n",
              "age_bin=(32.8, 47.6]                        -0.055095             -0.004176   \n",
              "age_bin=(47.6, 62.4]                        -0.019841              0.032584   \n",
              "age_bin=(62.4, 77.2]                        -0.009410              0.000586   \n",
              "age_bin=(77.2, 92.0]                         1.000000             -0.009367   \n",
              "avg_balance_per_year                        -0.009367              1.000000   \n",
              "balance                                     -0.011866              0.581837   \n",
              "country=France                               0.010150             -0.136927   \n",
              "country=Germany                             -0.006117              0.231975   \n",
              "country=Spain                               -0.005592             -0.075000   \n",
              "credit_card                                 -0.000370             -0.024199   \n",
              "credit_score                                 0.005857             -0.000603   \n",
              "credit_score_bin=(349.5, 450.0]              0.011043              0.006958   \n",
              "credit_score_bin=(450.0, 550.0]             -0.006181              0.000027   \n",
              "credit_score_bin=(550.0, 650.0]             -0.014044             -0.007319   \n",
              "credit_score_bin=(650.0, 750.0]              0.015975             -0.000815   \n",
              "credit_score_bin=(750.0, 850.0]             -0.000980              0.007869   \n",
              "estimated_salary                             0.016824              0.010386   \n",
              "gender=Female                                0.004195              0.007526   \n",
              "gender=Male                                 -0.004195             -0.007526   \n",
              "products_number                             -0.011355             -0.189241   \n",
              "tenure                                      -0.001910             -0.534663   \n",
              "target                                      -0.019121              0.073680   \n",
              "\n",
              "                                  balance  country=France  ...  \\\n",
              "active_member                   -0.014448        0.003308  ...   \n",
              "age                              0.036442       -0.033614  ...   \n",
              "age_bin=(17.926, 32.8]          -0.032903        0.034848  ...   \n",
              "age_bin=(32.8, 47.6]            -0.001009       -0.010536  ...   \n",
              "age_bin=(47.6, 62.4]             0.048117       -0.032485  ...   \n",
              "age_bin=(62.4, 77.2]            -0.003387        0.001205  ...   \n",
              "age_bin=(77.2, 92.0]            -0.011866        0.010150  ...   \n",
              "avg_balance_per_year             0.581837       -0.136927  ...   \n",
              "balance                          1.000000       -0.239032  ...   \n",
              "country=France                  -0.239032        1.000000  ...   \n",
              "country=Germany                  0.406259       -0.580563  ...   \n",
              "country=Spain                   -0.132239       -0.573078  ...   \n",
              "credit_card                     -0.009284        0.006150  ...   \n",
              "credit_score                     0.008201       -0.015282  ...   \n",
              "credit_score_bin=(349.5, 450.0] -0.012171        0.013044  ...   \n",
              "credit_score_bin=(450.0, 550.0] -0.003473        0.014683  ...   \n",
              "credit_score_bin=(550.0, 650.0] -0.004275       -0.015312  ...   \n",
              "credit_score_bin=(650.0, 750.0] -0.001206        0.009357  ...   \n",
              "credit_score_bin=(750.0, 850.0]  0.015080       -0.011522  ...   \n",
              "estimated_salary                 0.009573        0.000335  ...   \n",
              "gender=Female                   -0.014503       -0.014530  ...   \n",
              "gender=Male                      0.014503        0.014530  ...   \n",
              "products_number                 -0.301414       -0.000281  ...   \n",
              "tenure                          -0.017705       -0.001272  ...   \n",
              "target                           0.117209       -0.105651  ...   \n",
              "\n",
              "                                 credit_score_bin=(450.0, 550.0]  \\\n",
              "active_member                                          -0.020009   \n",
              "age                                                    -0.004112   \n",
              "age_bin=(17.926, 32.8]                                  0.008157   \n",
              "age_bin=(32.8, 47.6]                                   -0.004819   \n",
              "age_bin=(47.6, 62.4]                                   -0.005802   \n",
              "age_bin=(62.4, 77.2]                                    0.005685   \n",
              "age_bin=(77.2, 92.0]                                   -0.006181   \n",
              "avg_balance_per_year                                    0.000027   \n",
              "balance                                                -0.003473   \n",
              "country=France                                          0.014683   \n",
              "country=Germany                                         0.000754   \n",
              "country=Spain                                          -0.017753   \n",
              "credit_card                                            -0.005521   \n",
              "credit_score                                           -0.581242   \n",
              "credit_score_bin=(349.5, 450.0]                        -0.057665   \n",
              "credit_score_bin=(450.0, 550.0]                         1.000000   \n",
              "credit_score_bin=(550.0, 650.0]                        -0.288352   \n",
              "credit_score_bin=(650.0, 750.0]                        -0.298735   \n",
              "credit_score_bin=(750.0, 850.0]                        -0.176547   \n",
              "estimated_salary                                       -0.001013   \n",
              "gender=Female                                           0.004902   \n",
              "gender=Male                                            -0.004902   \n",
              "products_number                                        -0.010602   \n",
              "tenure                                                  0.002504   \n",
              "target                                                  0.012717   \n",
              "\n",
              "                                 credit_score_bin=(550.0, 650.0]  \\\n",
              "active_member                                           0.004567   \n",
              "age                                                    -0.000188   \n",
              "age_bin=(17.926, 32.8]                                 -0.005692   \n",
              "age_bin=(32.8, 47.6]                                   -0.004464   \n",
              "age_bin=(47.6, 62.4]                                    0.023488   \n",
              "age_bin=(62.4, 77.2]                                   -0.014137   \n",
              "age_bin=(77.2, 92.0]                                   -0.014044   \n",
              "avg_balance_per_year                                   -0.007319   \n",
              "balance                                                -0.004275   \n",
              "country=France                                         -0.015312   \n",
              "country=Germany                                         0.006377   \n",
              "country=Spain                                           0.011304   \n",
              "credit_card                                             0.003563   \n",
              "credit_score                                           -0.332601   \n",
              "credit_score_bin=(349.5, 450.0]                        -0.099448   \n",
              "credit_score_bin=(450.0, 550.0]                        -0.288352   \n",
              "credit_score_bin=(550.0, 650.0]                         1.000000   \n",
              "credit_score_bin=(650.0, 750.0]                        -0.515192   \n",
              "credit_score_bin=(750.0, 850.0]                        -0.304470   \n",
              "estimated_salary                                       -0.018528   \n",
              "gender=Female                                          -0.001369   \n",
              "gender=Male                                             0.001369   \n",
              "products_number                                         0.009821   \n",
              "tenure                                                 -0.000605   \n",
              "target                                                  0.007447   \n",
              "\n",
              "                                 credit_score_bin=(650.0, 750.0]  \\\n",
              "active_member                                           0.018252   \n",
              "age                                                    -0.005748   \n",
              "age_bin=(17.926, 32.8]                                 -0.003023   \n",
              "age_bin=(32.8, 47.6]                                    0.015851   \n",
              "age_bin=(47.6, 62.4]                                   -0.023695   \n",
              "age_bin=(62.4, 77.2]                                    0.004331   \n",
              "age_bin=(77.2, 92.0]                                    0.015975   \n",
              "avg_balance_per_year                                   -0.000815   \n",
              "balance                                                -0.001206   \n",
              "country=France                                          0.009357   \n",
              "country=Germany                                        -0.024564   \n",
              "country=Spain                                           0.013894   \n",
              "credit_card                                            -0.005283   \n",
              "credit_score                                            0.352234   \n",
              "credit_score_bin=(349.5, 450.0]                        -0.103029   \n",
              "credit_score_bin=(450.0, 550.0]                        -0.298735   \n",
              "credit_score_bin=(550.0, 650.0]                        -0.515192   \n",
              "credit_score_bin=(650.0, 750.0]                         1.000000   \n",
              "credit_score_bin=(750.0, 850.0]                        -0.315433   \n",
              "estimated_salary                                        0.011619   \n",
              "gender=Female                                           0.002756   \n",
              "gender=Male                                            -0.002756   \n",
              "products_number                                        -0.009064   \n",
              "tenure                                                  0.009221   \n",
              "target                                                 -0.019273   \n",
              "\n",
              "                                 credit_score_bin=(750.0, 850.0]  \\\n",
              "active_member                                          -0.001854   \n",
              "age                                                     0.002478   \n",
              "age_bin=(17.926, 32.8]                                  0.011627   \n",
              "age_bin=(32.8, 47.6]                                   -0.010712   \n",
              "age_bin=(47.6, 62.4]                                   -0.003648   \n",
              "age_bin=(62.4, 77.2]                                    0.007766   \n",
              "age_bin=(77.2, 92.0]                                   -0.000980   \n",
              "avg_balance_per_year                                    0.007869   \n",
              "balance                                                 0.015080   \n",
              "country=France                                         -0.011522   \n",
              "country=Germany                                         0.025139   \n",
              "country=Spain                                          -0.011967   \n",
              "credit_card                                             0.002149   \n",
              "credit_score                                            0.654332   \n",
              "credit_score_bin=(349.5, 450.0]                        -0.060888   \n",
              "credit_score_bin=(450.0, 550.0]                        -0.176547   \n",
              "credit_score_bin=(550.0, 650.0]                        -0.304470   \n",
              "credit_score_bin=(650.0, 750.0]                        -0.315433   \n",
              "credit_score_bin=(750.0, 850.0]                         1.000000   \n",
              "estimated_salary                                        0.007846   \n",
              "gender=Female                                          -0.002771   \n",
              "gender=Male                                             0.002771   \n",
              "products_number                                         0.011097   \n",
              "tenure                                                 -0.011141   \n",
              "target                                                 -0.011314   \n",
              "\n",
              "                                 estimated_salary  gender=Female  gender=Male  \\\n",
              "active_member                           -0.010341      -0.021326     0.021326   \n",
              "age                                     -0.006203       0.031391    -0.031391   \n",
              "age_bin=(17.926, 32.8]                   0.005007      -0.013424     0.013424   \n",
              "age_bin=(32.8, 47.6]                     0.004078      -0.014140     0.014140   \n",
              "age_bin=(47.6, 62.4]                    -0.010543       0.033941    -0.033941   \n",
              "age_bin=(62.4, 77.2]                    -0.008298       0.006768    -0.006768   \n",
              "age_bin=(77.2, 92.0]                     0.016824       0.004195    -0.004195   \n",
              "avg_balance_per_year                     0.010386       0.007526    -0.007526   \n",
              "balance                                  0.009573      -0.014503     0.014503   \n",
              "country=France                           0.000335      -0.014530     0.014530   \n",
              "country=Germany                          0.011108       0.025990    -0.025990   \n",
              "country=Spain                           -0.011568      -0.009341     0.009341   \n",
              "credit_card                             -0.000675      -0.009652     0.009652   \n",
              "credit_score                             0.007207      -0.003294     0.003294   \n",
              "credit_score_bin=(349.5, 450.0]          0.005000      -0.009955     0.009955   \n",
              "credit_score_bin=(450.0, 550.0]         -0.001013       0.004902    -0.004902   \n",
              "credit_score_bin=(550.0, 650.0]         -0.018528      -0.001369     0.001369   \n",
              "credit_score_bin=(650.0, 750.0]          0.011619       0.002756    -0.002756   \n",
              "credit_score_bin=(750.0, 850.0]          0.007846      -0.002771     0.002771   \n",
              "estimated_salary                         1.000000       0.008777    -0.008777   \n",
              "gender=Female                            0.008777       1.000000    -1.000000   \n",
              "gender=Male                             -0.008777      -1.000000     1.000000   \n",
              "products_number                          0.020553       0.025102    -0.025102   \n",
              "tenure                                   0.007244      -0.014455     0.014455   \n",
              "target                                   0.010583       0.101872    -0.101872   \n",
              "\n",
              "                                 products_number    tenure    target  \n",
              "active_member                           0.007689 -0.027791 -0.154936  \n",
              "age                                    -0.041256 -0.007202  0.288580  \n",
              "age_bin=(17.926, 32.8]                  0.027681  0.001942 -0.193151  \n",
              "age_bin=(32.8, 47.6]                    0.007972  0.001773 -0.051978  \n",
              "age_bin=(47.6, 62.4]                   -0.039836 -0.001773  0.326636  \n",
              "age_bin=(62.4, 77.2]                   -0.012023 -0.005794  0.009130  \n",
              "age_bin=(77.2, 92.0]                   -0.011355 -0.001910 -0.019121  \n",
              "avg_balance_per_year                   -0.189241 -0.534663  0.073680  \n",
              "balance                                -0.301414 -0.017705  0.117209  \n",
              "country=France                         -0.000281 -0.001272 -0.105651  \n",
              "country=Germany                        -0.008194 -0.002132  0.174224  \n",
              "country=Spain                           0.008573  0.003618 -0.053073  \n",
              "credit_card                            -0.004930  0.022390  0.003937  \n",
              "credit_score                            0.010991 -0.002499 -0.030422  \n",
              "credit_score_bin=(349.5, 450.0]        -0.004570 -0.006726  0.038584  \n",
              "credit_score_bin=(450.0, 550.0]        -0.010602  0.002504  0.012717  \n",
              "credit_score_bin=(550.0, 650.0]         0.009821 -0.000605  0.007447  \n",
              "credit_score_bin=(650.0, 750.0]        -0.009064  0.009221 -0.019273  \n",
              "credit_score_bin=(750.0, 850.0]         0.011097 -0.011141 -0.011314  \n",
              "estimated_salary                        0.020553  0.007244  0.010583  \n",
              "gender=Female                           0.025102 -0.014455  0.101872  \n",
              "gender=Male                            -0.025102  0.014455 -0.101872  \n",
              "products_number                         1.000000  0.014370 -0.050836  \n",
              "tenure                                  0.014370  1.000000 -0.007492  \n",
              "target                                 -0.050836 -0.007492  1.000000  \n",
              "\n",
              "[25 rows x 25 columns]"
            ],
            "text/html": [
              "\n",
              "  <div id=\"df-1a9d4fda-7020-4c2a-989e-2e0d1dd750f9\">\n",
              "    <div class=\"colab-df-container\">\n",
              "      <div>\n",
              "<style scoped>\n",
              "    .dataframe tbody tr th:only-of-type {\n",
              "        vertical-align: middle;\n",
              "    }\n",
              "\n",
              "    .dataframe tbody tr th {\n",
              "        vertical-align: top;\n",
              "    }\n",
              "\n",
              "    .dataframe thead th {\n",
              "        text-align: right;\n",
              "    }\n",
              "</style>\n",
              "<table border=\"1\" class=\"dataframe\">\n",
              "  <thead>\n",
              "    <tr style=\"text-align: right;\">\n",
              "      <th></th>\n",
              "      <th>active_member</th>\n",
              "      <th>age</th>\n",
              "      <th>age_bin=(17.926, 32.8]</th>\n",
              "      <th>age_bin=(32.8, 47.6]</th>\n",
              "      <th>age_bin=(47.6, 62.4]</th>\n",
              "      <th>age_bin=(62.4, 77.2]</th>\n",
              "      <th>age_bin=(77.2, 92.0]</th>\n",
              "      <th>avg_balance_per_year</th>\n",
              "      <th>balance</th>\n",
              "      <th>country=France</th>\n",
              "      <th>...</th>\n",
              "      <th>credit_score_bin=(450.0, 550.0]</th>\n",
              "      <th>credit_score_bin=(550.0, 650.0]</th>\n",
              "      <th>credit_score_bin=(650.0, 750.0]</th>\n",
              "      <th>credit_score_bin=(750.0, 850.0]</th>\n",
              "      <th>estimated_salary</th>\n",
              "      <th>gender=Female</th>\n",
              "      <th>gender=Male</th>\n",
              "      <th>products_number</th>\n",
              "      <th>tenure</th>\n",
              "      <th>target</th>\n",
              "    </tr>\n",
              "  </thead>\n",
              "  <tbody>\n",
              "    <tr>\n",
              "      <th>active_member</th>\n",
              "      <td>1.000000</td>\n",
              "      <td>0.083860</td>\n",
              "      <td>0.013363</td>\n",
              "      <td>-0.082400</td>\n",
              "      <td>0.032558</td>\n",
              "      <td>0.119323</td>\n",
              "      <td>0.044015</td>\n",
              "      <td>0.018333</td>\n",
              "      <td>-0.014448</td>\n",
              "      <td>0.003308</td>\n",
              "      <td>...</td>\n",
              "      <td>-0.020009</td>\n",
              "      <td>0.004567</td>\n",
              "      <td>0.018252</td>\n",
              "      <td>-0.001854</td>\n",
              "      <td>-0.010341</td>\n",
              "      <td>-0.021326</td>\n",
              "      <td>0.021326</td>\n",
              "      <td>0.007689</td>\n",
              "      <td>-0.027791</td>\n",
              "      <td>-0.154936</td>\n",
              "    </tr>\n",
              "    <tr>\n",
              "      <th>age</th>\n",
              "      <td>0.083860</td>\n",
              "      <td>1.000000</td>\n",
              "      <td>-0.643061</td>\n",
              "      <td>-0.008748</td>\n",
              "      <td>0.547434</td>\n",
              "      <td>0.525330</td>\n",
              "      <td>0.203582</td>\n",
              "      <td>0.024255</td>\n",
              "      <td>0.036442</td>\n",
              "      <td>-0.033614</td>\n",
              "      <td>...</td>\n",
              "      <td>-0.004112</td>\n",
              "      <td>-0.000188</td>\n",
              "      <td>-0.005748</td>\n",
              "      <td>0.002478</td>\n",
              "      <td>-0.006203</td>\n",
              "      <td>0.031391</td>\n",
              "      <td>-0.031391</td>\n",
              "      <td>-0.041256</td>\n",
              "      <td>-0.007202</td>\n",
              "      <td>0.288580</td>\n",
              "    </tr>\n",
              "    <tr>\n",
              "      <th>age_bin=(17.926, 32.8]</th>\n",
              "      <td>0.013363</td>\n",
              "      <td>-0.643061</td>\n",
              "      <td>1.000000</td>\n",
              "      <td>-0.686088</td>\n",
              "      <td>-0.247075</td>\n",
              "      <td>-0.117180</td>\n",
              "      <td>-0.031210</td>\n",
              "      <td>-0.019426</td>\n",
              "      <td>-0.032903</td>\n",
              "      <td>0.034848</td>\n",
              "      <td>...</td>\n",
              "      <td>0.008157</td>\n",
              "      <td>-0.005692</td>\n",
              "      <td>-0.003023</td>\n",
              "      <td>0.011627</td>\n",
              "      <td>0.005007</td>\n",
              "      <td>-0.013424</td>\n",
              "      <td>0.013424</td>\n",
              "      <td>0.027681</td>\n",
              "      <td>0.001942</td>\n",
              "      <td>-0.193151</td>\n",
              "    </tr>\n",
              "    <tr>\n",
              "      <th>age_bin=(32.8, 47.6]</th>\n",
              "      <td>-0.082400</td>\n",
              "      <td>-0.008748</td>\n",
              "      <td>-0.686088</td>\n",
              "      <td>1.000000</td>\n",
              "      <td>-0.436166</td>\n",
              "      <td>-0.206861</td>\n",
              "      <td>-0.055095</td>\n",
              "      <td>-0.004176</td>\n",
              "      <td>-0.001009</td>\n",
              "      <td>-0.010536</td>\n",
              "      <td>...</td>\n",
              "      <td>-0.004819</td>\n",
              "      <td>-0.004464</td>\n",
              "      <td>0.015851</td>\n",
              "      <td>-0.010712</td>\n",
              "      <td>0.004078</td>\n",
              "      <td>-0.014140</td>\n",
              "      <td>0.014140</td>\n",
              "      <td>0.007972</td>\n",
              "      <td>0.001773</td>\n",
              "      <td>-0.051978</td>\n",
              "    </tr>\n",
              "    <tr>\n",
              "      <th>age_bin=(47.6, 62.4]</th>\n",
              "      <td>0.032558</td>\n",
              "      <td>0.547434</td>\n",
              "      <td>-0.247075</td>\n",
              "      <td>-0.436166</td>\n",
              "      <td>1.000000</td>\n",
              "      <td>-0.074495</td>\n",
              "      <td>-0.019841</td>\n",
              "      <td>0.032584</td>\n",
              "      <td>0.048117</td>\n",
              "      <td>-0.032485</td>\n",
              "      <td>...</td>\n",
              "      <td>-0.005802</td>\n",
              "      <td>0.023488</td>\n",
              "      <td>-0.023695</td>\n",
              "      <td>-0.003648</td>\n",
              "      <td>-0.010543</td>\n",
              "      <td>0.033941</td>\n",
              "      <td>-0.033941</td>\n",
              "      <td>-0.039836</td>\n",
              "      <td>-0.001773</td>\n",
              "      <td>0.326636</td>\n",
              "    </tr>\n",
              "    <tr>\n",
              "      <th>age_bin=(62.4, 77.2]</th>\n",
              "      <td>0.119323</td>\n",
              "      <td>0.525330</td>\n",
              "      <td>-0.117180</td>\n",
              "      <td>-0.206861</td>\n",
              "      <td>-0.074495</td>\n",
              "      <td>1.000000</td>\n",
              "      <td>-0.009410</td>\n",
              "      <td>0.000586</td>\n",
              "      <td>-0.003387</td>\n",
              "      <td>0.001205</td>\n",
              "      <td>...</td>\n",
              "      <td>0.005685</td>\n",
              "      <td>-0.014137</td>\n",
              "      <td>0.004331</td>\n",
              "      <td>0.007766</td>\n",
              "      <td>-0.008298</td>\n",
              "      <td>0.006768</td>\n",
              "      <td>-0.006768</td>\n",
              "      <td>-0.012023</td>\n",
              "      <td>-0.005794</td>\n",
              "      <td>0.009130</td>\n",
              "    </tr>\n",
              "    <tr>\n",
              "      <th>age_bin=(77.2, 92.0]</th>\n",
              "      <td>0.044015</td>\n",
              "      <td>0.203582</td>\n",
              "      <td>-0.031210</td>\n",
              "      <td>-0.055095</td>\n",
              "      <td>-0.019841</td>\n",
              "      <td>-0.009410</td>\n",
              "      <td>1.000000</td>\n",
              "      <td>-0.009367</td>\n",
              "      <td>-0.011866</td>\n",
              "      <td>0.010150</td>\n",
              "      <td>...</td>\n",
              "      <td>-0.006181</td>\n",
              "      <td>-0.014044</td>\n",
              "      <td>0.015975</td>\n",
              "      <td>-0.000980</td>\n",
              "      <td>0.016824</td>\n",
              "      <td>0.004195</td>\n",
              "      <td>-0.004195</td>\n",
              "      <td>-0.011355</td>\n",
              "      <td>-0.001910</td>\n",
              "      <td>-0.019121</td>\n",
              "    </tr>\n",
              "    <tr>\n",
              "      <th>avg_balance_per_year</th>\n",
              "      <td>0.018333</td>\n",
              "      <td>0.024255</td>\n",
              "      <td>-0.019426</td>\n",
              "      <td>-0.004176</td>\n",
              "      <td>0.032584</td>\n",
              "      <td>0.000586</td>\n",
              "      <td>-0.009367</td>\n",
              "      <td>1.000000</td>\n",
              "      <td>0.581837</td>\n",
              "      <td>-0.136927</td>\n",
              "      <td>...</td>\n",
              "      <td>0.000027</td>\n",
              "      <td>-0.007319</td>\n",
              "      <td>-0.000815</td>\n",
              "      <td>0.007869</td>\n",
              "      <td>0.010386</td>\n",
              "      <td>0.007526</td>\n",
              "      <td>-0.007526</td>\n",
              "      <td>-0.189241</td>\n",
              "      <td>-0.534663</td>\n",
              "      <td>0.073680</td>\n",
              "    </tr>\n",
              "    <tr>\n",
              "      <th>balance</th>\n",
              "      <td>-0.014448</td>\n",
              "      <td>0.036442</td>\n",
              "      <td>-0.032903</td>\n",
              "      <td>-0.001009</td>\n",
              "      <td>0.048117</td>\n",
              "      <td>-0.003387</td>\n",
              "      <td>-0.011866</td>\n",
              "      <td>0.581837</td>\n",
              "      <td>1.000000</td>\n",
              "      <td>-0.239032</td>\n",
              "      <td>...</td>\n",
              "      <td>-0.003473</td>\n",
              "      <td>-0.004275</td>\n",
              "      <td>-0.001206</td>\n",
              "      <td>0.015080</td>\n",
              "      <td>0.009573</td>\n",
              "      <td>-0.014503</td>\n",
              "      <td>0.014503</td>\n",
              "      <td>-0.301414</td>\n",
              "      <td>-0.017705</td>\n",
              "      <td>0.117209</td>\n",
              "    </tr>\n",
              "    <tr>\n",
              "      <th>country=France</th>\n",
              "      <td>0.003308</td>\n",
              "      <td>-0.033614</td>\n",
              "      <td>0.034848</td>\n",
              "      <td>-0.010536</td>\n",
              "      <td>-0.032485</td>\n",
              "      <td>0.001205</td>\n",
              "      <td>0.010150</td>\n",
              "      <td>-0.136927</td>\n",
              "      <td>-0.239032</td>\n",
              "      <td>1.000000</td>\n",
              "      <td>...</td>\n",
              "      <td>0.014683</td>\n",
              "      <td>-0.015312</td>\n",
              "      <td>0.009357</td>\n",
              "      <td>-0.011522</td>\n",
              "      <td>0.000335</td>\n",
              "      <td>-0.014530</td>\n",
              "      <td>0.014530</td>\n",
              "      <td>-0.000281</td>\n",
              "      <td>-0.001272</td>\n",
              "      <td>-0.105651</td>\n",
              "    </tr>\n",
              "    <tr>\n",
              "      <th>country=Germany</th>\n",
              "      <td>-0.021142</td>\n",
              "      <td>0.046464</td>\n",
              "      <td>-0.036979</td>\n",
              "      <td>-0.000112</td>\n",
              "      <td>0.054645</td>\n",
              "      <td>-0.009664</td>\n",
              "      <td>-0.006117</td>\n",
              "      <td>0.231975</td>\n",
              "      <td>0.406259</td>\n",
              "      <td>-0.580563</td>\n",
              "      <td>...</td>\n",
              "      <td>0.000754</td>\n",
              "      <td>0.006377</td>\n",
              "      <td>-0.024564</td>\n",
              "      <td>0.025139</td>\n",
              "      <td>0.011108</td>\n",
              "      <td>0.025990</td>\n",
              "      <td>-0.025990</td>\n",
              "      <td>-0.008194</td>\n",
              "      <td>-0.002132</td>\n",
              "      <td>0.174224</td>\n",
              "    </tr>\n",
              "    <tr>\n",
              "      <th>country=Spain</th>\n",
              "      <td>0.017450</td>\n",
              "      <td>-0.007861</td>\n",
              "      <td>-0.003114</td>\n",
              "      <td>0.012307</td>\n",
              "      <td>-0.017402</td>\n",
              "      <td>0.008332</td>\n",
              "      <td>-0.005592</td>\n",
              "      <td>-0.075000</td>\n",
              "      <td>-0.132239</td>\n",
              "      <td>-0.573078</td>\n",
              "      <td>...</td>\n",
              "      <td>-0.017753</td>\n",
              "      <td>0.011304</td>\n",
              "      <td>0.013894</td>\n",
              "      <td>-0.011967</td>\n",
              "      <td>-0.011568</td>\n",
              "      <td>-0.009341</td>\n",
              "      <td>0.009341</td>\n",
              "      <td>0.008573</td>\n",
              "      <td>0.003618</td>\n",
              "      <td>-0.053073</td>\n",
              "    </tr>\n",
              "    <tr>\n",
              "      <th>credit_card</th>\n",
              "      <td>-0.018932</td>\n",
              "      <td>-0.009133</td>\n",
              "      <td>0.013498</td>\n",
              "      <td>0.007044</td>\n",
              "      <td>-0.036644</td>\n",
              "      <td>0.016549</td>\n",
              "      <td>-0.000370</td>\n",
              "      <td>-0.024199</td>\n",
              "      <td>-0.009284</td>\n",
              "      <td>0.006150</td>\n",
              "      <td>...</td>\n",
              "      <td>-0.005521</td>\n",
              "      <td>0.003563</td>\n",
              "      <td>-0.005283</td>\n",
              "      <td>0.002149</td>\n",
              "      <td>-0.000675</td>\n",
              "      <td>-0.009652</td>\n",
              "      <td>0.009652</td>\n",
              "      <td>-0.004930</td>\n",
              "      <td>0.022390</td>\n",
              "      <td>0.003937</td>\n",
              "    </tr>\n",
              "    <tr>\n",
              "      <th>credit_score</th>\n",
              "      <td>0.026482</td>\n",
              "      <td>-0.003117</td>\n",
              "      <td>0.006550</td>\n",
              "      <td>0.002279</td>\n",
              "      <td>-0.017639</td>\n",
              "      <td>0.009222</td>\n",
              "      <td>0.005857</td>\n",
              "      <td>-0.000603</td>\n",
              "      <td>0.008201</td>\n",
              "      <td>-0.015282</td>\n",
              "      <td>...</td>\n",
              "      <td>-0.581242</td>\n",
              "      <td>-0.332601</td>\n",
              "      <td>0.352234</td>\n",
              "      <td>0.654332</td>\n",
              "      <td>0.007207</td>\n",
              "      <td>-0.003294</td>\n",
              "      <td>0.003294</td>\n",
              "      <td>0.010991</td>\n",
              "      <td>-0.002499</td>\n",
              "      <td>-0.030422</td>\n",
              "    </tr>\n",
              "    <tr>\n",
              "      <th>credit_score_bin=(349.5, 450.0]</th>\n",
              "      <td>-0.022855</td>\n",
              "      <td>0.024336</td>\n",
              "      <td>-0.021466</td>\n",
              "      <td>0.001001</td>\n",
              "      <td>0.025925</td>\n",
              "      <td>-0.001611</td>\n",
              "      <td>0.011043</td>\n",
              "      <td>0.006958</td>\n",
              "      <td>-0.012171</td>\n",
              "      <td>0.013044</td>\n",
              "      <td>...</td>\n",
              "      <td>-0.057665</td>\n",
              "      <td>-0.099448</td>\n",
              "      <td>-0.103029</td>\n",
              "      <td>-0.060888</td>\n",
              "      <td>0.005000</td>\n",
              "      <td>-0.009955</td>\n",
              "      <td>0.009955</td>\n",
              "      <td>-0.004570</td>\n",
              "      <td>-0.006726</td>\n",
              "      <td>0.038584</td>\n",
              "    </tr>\n",
              "    <tr>\n",
              "      <th>credit_score_bin=(450.0, 550.0]</th>\n",
              "      <td>-0.020009</td>\n",
              "      <td>-0.004112</td>\n",
              "      <td>0.008157</td>\n",
              "      <td>-0.004819</td>\n",
              "      <td>-0.005802</td>\n",
              "      <td>0.005685</td>\n",
              "      <td>-0.006181</td>\n",
              "      <td>0.000027</td>\n",
              "      <td>-0.003473</td>\n",
              "      <td>0.014683</td>\n",
              "      <td>...</td>\n",
              "      <td>1.000000</td>\n",
              "      <td>-0.288352</td>\n",
              "      <td>-0.298735</td>\n",
              "      <td>-0.176547</td>\n",
              "      <td>-0.001013</td>\n",
              "      <td>0.004902</td>\n",
              "      <td>-0.004902</td>\n",
              "      <td>-0.010602</td>\n",
              "      <td>0.002504</td>\n",
              "      <td>0.012717</td>\n",
              "    </tr>\n",
              "    <tr>\n",
              "      <th>credit_score_bin=(550.0, 650.0]</th>\n",
              "      <td>0.004567</td>\n",
              "      <td>-0.000188</td>\n",
              "      <td>-0.005692</td>\n",
              "      <td>-0.004464</td>\n",
              "      <td>0.023488</td>\n",
              "      <td>-0.014137</td>\n",
              "      <td>-0.014044</td>\n",
              "      <td>-0.007319</td>\n",
              "      <td>-0.004275</td>\n",
              "      <td>-0.015312</td>\n",
              "      <td>...</td>\n",
              "      <td>-0.288352</td>\n",
              "      <td>1.000000</td>\n",
              "      <td>-0.515192</td>\n",
              "      <td>-0.304470</td>\n",
              "      <td>-0.018528</td>\n",
              "      <td>-0.001369</td>\n",
              "      <td>0.001369</td>\n",
              "      <td>0.009821</td>\n",
              "      <td>-0.000605</td>\n",
              "      <td>0.007447</td>\n",
              "    </tr>\n",
              "    <tr>\n",
              "      <th>credit_score_bin=(650.0, 750.0]</th>\n",
              "      <td>0.018252</td>\n",
              "      <td>-0.005748</td>\n",
              "      <td>-0.003023</td>\n",
              "      <td>0.015851</td>\n",
              "      <td>-0.023695</td>\n",
              "      <td>0.004331</td>\n",
              "      <td>0.015975</td>\n",
              "      <td>-0.000815</td>\n",
              "      <td>-0.001206</td>\n",
              "      <td>0.009357</td>\n",
              "      <td>...</td>\n",
              "      <td>-0.298735</td>\n",
              "      <td>-0.515192</td>\n",
              "      <td>1.000000</td>\n",
              "      <td>-0.315433</td>\n",
              "      <td>0.011619</td>\n",
              "      <td>0.002756</td>\n",
              "      <td>-0.002756</td>\n",
              "      <td>-0.009064</td>\n",
              "      <td>0.009221</td>\n",
              "      <td>-0.019273</td>\n",
              "    </tr>\n",
              "    <tr>\n",
              "      <th>credit_score_bin=(750.0, 850.0]</th>\n",
              "      <td>-0.001854</td>\n",
              "      <td>0.002478</td>\n",
              "      <td>0.011627</td>\n",
              "      <td>-0.010712</td>\n",
              "      <td>-0.003648</td>\n",
              "      <td>0.007766</td>\n",
              "      <td>-0.000980</td>\n",
              "      <td>0.007869</td>\n",
              "      <td>0.015080</td>\n",
              "      <td>-0.011522</td>\n",
              "      <td>...</td>\n",
              "      <td>-0.176547</td>\n",
              "      <td>-0.304470</td>\n",
              "      <td>-0.315433</td>\n",
              "      <td>1.000000</td>\n",
              "      <td>0.007846</td>\n",
              "      <td>-0.002771</td>\n",
              "      <td>0.002771</td>\n",
              "      <td>0.011097</td>\n",
              "      <td>-0.011141</td>\n",
              "      <td>-0.011314</td>\n",
              "    </tr>\n",
              "    <tr>\n",
              "      <th>estimated_salary</th>\n",
              "      <td>-0.010341</td>\n",
              "      <td>-0.006203</td>\n",
              "      <td>0.005007</td>\n",
              "      <td>0.004078</td>\n",
              "      <td>-0.010543</td>\n",
              "      <td>-0.008298</td>\n",
              "      <td>0.016824</td>\n",
              "      <td>0.010386</td>\n",
              "      <td>0.009573</td>\n",
              "      <td>0.000335</td>\n",
              "      <td>...</td>\n",
              "      <td>-0.001013</td>\n",
              "      <td>-0.018528</td>\n",
              "      <td>0.011619</td>\n",
              "      <td>0.007846</td>\n",
              "      <td>1.000000</td>\n",
              "      <td>0.008777</td>\n",
              "      <td>-0.008777</td>\n",
              "      <td>0.020553</td>\n",
              "      <td>0.007244</td>\n",
              "      <td>0.010583</td>\n",
              "    </tr>\n",
              "    <tr>\n",
              "      <th>gender=Female</th>\n",
              "      <td>-0.021326</td>\n",
              "      <td>0.031391</td>\n",
              "      <td>-0.013424</td>\n",
              "      <td>-0.014140</td>\n",
              "      <td>0.033941</td>\n",
              "      <td>0.006768</td>\n",
              "      <td>0.004195</td>\n",
              "      <td>0.007526</td>\n",
              "      <td>-0.014503</td>\n",
              "      <td>-0.014530</td>\n",
              "      <td>...</td>\n",
              "      <td>0.004902</td>\n",
              "      <td>-0.001369</td>\n",
              "      <td>0.002756</td>\n",
              "      <td>-0.002771</td>\n",
              "      <td>0.008777</td>\n",
              "      <td>1.000000</td>\n",
              "      <td>-1.000000</td>\n",
              "      <td>0.025102</td>\n",
              "      <td>-0.014455</td>\n",
              "      <td>0.101872</td>\n",
              "    </tr>\n",
              "    <tr>\n",
              "      <th>gender=Male</th>\n",
              "      <td>0.021326</td>\n",
              "      <td>-0.031391</td>\n",
              "      <td>0.013424</td>\n",
              "      <td>0.014140</td>\n",
              "      <td>-0.033941</td>\n",
              "      <td>-0.006768</td>\n",
              "      <td>-0.004195</td>\n",
              "      <td>-0.007526</td>\n",
              "      <td>0.014503</td>\n",
              "      <td>0.014530</td>\n",
              "      <td>...</td>\n",
              "      <td>-0.004902</td>\n",
              "      <td>0.001369</td>\n",
              "      <td>-0.002756</td>\n",
              "      <td>0.002771</td>\n",
              "      <td>-0.008777</td>\n",
              "      <td>-1.000000</td>\n",
              "      <td>1.000000</td>\n",
              "      <td>-0.025102</td>\n",
              "      <td>0.014455</td>\n",
              "      <td>-0.101872</td>\n",
              "    </tr>\n",
              "    <tr>\n",
              "      <th>products_number</th>\n",
              "      <td>0.007689</td>\n",
              "      <td>-0.041256</td>\n",
              "      <td>0.027681</td>\n",
              "      <td>0.007972</td>\n",
              "      <td>-0.039836</td>\n",
              "      <td>-0.012023</td>\n",
              "      <td>-0.011355</td>\n",
              "      <td>-0.189241</td>\n",
              "      <td>-0.301414</td>\n",
              "      <td>-0.000281</td>\n",
              "      <td>...</td>\n",
              "      <td>-0.010602</td>\n",
              "      <td>0.009821</td>\n",
              "      <td>-0.009064</td>\n",
              "      <td>0.011097</td>\n",
              "      <td>0.020553</td>\n",
              "      <td>0.025102</td>\n",
              "      <td>-0.025102</td>\n",
              "      <td>1.000000</td>\n",
              "      <td>0.014370</td>\n",
              "      <td>-0.050836</td>\n",
              "    </tr>\n",
              "    <tr>\n",
              "      <th>tenure</th>\n",
              "      <td>-0.027791</td>\n",
              "      <td>-0.007202</td>\n",
              "      <td>0.001942</td>\n",
              "      <td>0.001773</td>\n",
              "      <td>-0.001773</td>\n",
              "      <td>-0.005794</td>\n",
              "      <td>-0.001910</td>\n",
              "      <td>-0.534663</td>\n",
              "      <td>-0.017705</td>\n",
              "      <td>-0.001272</td>\n",
              "      <td>...</td>\n",
              "      <td>0.002504</td>\n",
              "      <td>-0.000605</td>\n",
              "      <td>0.009221</td>\n",
              "      <td>-0.011141</td>\n",
              "      <td>0.007244</td>\n",
              "      <td>-0.014455</td>\n",
              "      <td>0.014455</td>\n",
              "      <td>0.014370</td>\n",
              "      <td>1.000000</td>\n",
              "      <td>-0.007492</td>\n",
              "    </tr>\n",
              "    <tr>\n",
              "      <th>target</th>\n",
              "      <td>-0.154936</td>\n",
              "      <td>0.288580</td>\n",
              "      <td>-0.193151</td>\n",
              "      <td>-0.051978</td>\n",
              "      <td>0.326636</td>\n",
              "      <td>0.009130</td>\n",
              "      <td>-0.019121</td>\n",
              "      <td>0.073680</td>\n",
              "      <td>0.117209</td>\n",
              "      <td>-0.105651</td>\n",
              "      <td>...</td>\n",
              "      <td>0.012717</td>\n",
              "      <td>0.007447</td>\n",
              "      <td>-0.019273</td>\n",
              "      <td>-0.011314</td>\n",
              "      <td>0.010583</td>\n",
              "      <td>0.101872</td>\n",
              "      <td>-0.101872</td>\n",
              "      <td>-0.050836</td>\n",
              "      <td>-0.007492</td>\n",
              "      <td>1.000000</td>\n",
              "    </tr>\n",
              "  </tbody>\n",
              "</table>\n",
              "<p>25 rows × 25 columns</p>\n",
              "</div>\n",
              "      <button class=\"colab-df-convert\" onclick=\"convertToInteractive('df-1a9d4fda-7020-4c2a-989e-2e0d1dd750f9')\"\n",
              "              title=\"Convert this dataframe to an interactive table.\"\n",
              "              style=\"display:none;\">\n",
              "        \n",
              "  <svg xmlns=\"http://www.w3.org/2000/svg\" height=\"24px\"viewBox=\"0 0 24 24\"\n",
              "       width=\"24px\">\n",
              "    <path d=\"M0 0h24v24H0V0z\" fill=\"none\"/>\n",
              "    <path d=\"M18.56 5.44l.94 2.06.94-2.06 2.06-.94-2.06-.94-.94-2.06-.94 2.06-2.06.94zm-11 1L8.5 8.5l.94-2.06 2.06-.94-2.06-.94L8.5 2.5l-.94 2.06-2.06.94zm10 10l.94 2.06.94-2.06 2.06-.94-2.06-.94-.94-2.06-.94 2.06-2.06.94z\"/><path d=\"M17.41 7.96l-1.37-1.37c-.4-.4-.92-.59-1.43-.59-.52 0-1.04.2-1.43.59L10.3 9.45l-7.72 7.72c-.78.78-.78 2.05 0 2.83L4 21.41c.39.39.9.59 1.41.59.51 0 1.02-.2 1.41-.59l7.78-7.78 2.81-2.81c.8-.78.8-2.07 0-2.86zM5.41 20L4 18.59l7.72-7.72 1.47 1.35L5.41 20z\"/>\n",
              "  </svg>\n",
              "      </button>\n",
              "      \n",
              "  <style>\n",
              "    .colab-df-container {\n",
              "      display:flex;\n",
              "      flex-wrap:wrap;\n",
              "      gap: 12px;\n",
              "    }\n",
              "\n",
              "    .colab-df-convert {\n",
              "      background-color: #E8F0FE;\n",
              "      border: none;\n",
              "      border-radius: 50%;\n",
              "      cursor: pointer;\n",
              "      display: none;\n",
              "      fill: #1967D2;\n",
              "      height: 32px;\n",
              "      padding: 0 0 0 0;\n",
              "      width: 32px;\n",
              "    }\n",
              "\n",
              "    .colab-df-convert:hover {\n",
              "      background-color: #E2EBFA;\n",
              "      box-shadow: 0px 1px 2px rgba(60, 64, 67, 0.3), 0px 1px 3px 1px rgba(60, 64, 67, 0.15);\n",
              "      fill: #174EA6;\n",
              "    }\n",
              "\n",
              "    [theme=dark] .colab-df-convert {\n",
              "      background-color: #3B4455;\n",
              "      fill: #D2E3FC;\n",
              "    }\n",
              "\n",
              "    [theme=dark] .colab-df-convert:hover {\n",
              "      background-color: #434B5C;\n",
              "      box-shadow: 0px 1px 3px 1px rgba(0, 0, 0, 0.15);\n",
              "      filter: drop-shadow(0px 1px 2px rgba(0, 0, 0, 0.3));\n",
              "      fill: #FFFFFF;\n",
              "    }\n",
              "  </style>\n",
              "\n",
              "      <script>\n",
              "        const buttonEl =\n",
              "          document.querySelector('#df-1a9d4fda-7020-4c2a-989e-2e0d1dd750f9 button.colab-df-convert');\n",
              "        buttonEl.style.display =\n",
              "          google.colab.kernel.accessAllowed ? 'block' : 'none';\n",
              "\n",
              "        async function convertToInteractive(key) {\n",
              "          const element = document.querySelector('#df-1a9d4fda-7020-4c2a-989e-2e0d1dd750f9');\n",
              "          const dataTable =\n",
              "            await google.colab.kernel.invokeFunction('convertToInteractive',\n",
              "                                                     [key], {});\n",
              "          if (!dataTable) return;\n",
              "\n",
              "          const docLinkHtml = 'Like what you see? Visit the ' +\n",
              "            '<a target=\"_blank\" href=https://colab.research.google.com/notebooks/data_table.ipynb>data table notebook</a>'\n",
              "            + ' to learn more about interactive tables.';\n",
              "          element.innerHTML = '';\n",
              "          dataTable['output_type'] = 'display_data';\n",
              "          await google.colab.output.renderOutput(dataTable, element);\n",
              "          const docLink = document.createElement('div');\n",
              "          docLink.innerHTML = docLinkHtml;\n",
              "          element.appendChild(docLink);\n",
              "        }\n",
              "      </script>\n",
              "    </div>\n",
              "  </div>\n",
              "  "
            ]
          },
          "metadata": {},
          "execution_count": 1035
        }
      ]
    },
    {
      "cell_type": "code",
      "source": [
        "df[df.isin([np.inf, -np.inf])].sum()"
      ],
      "metadata": {
        "colab": {
          "base_uri": "https://localhost:8080/"
        },
        "id": "e-RS-YB9c66N",
        "outputId": "1cf162c7-a2e9-47b6-f185-a8e5d31f4c85"
      },
      "execution_count": 1036,
      "outputs": [
        {
          "output_type": "execute_result",
          "data": {
            "text/plain": [
              "credit_score            0.0\n",
              "country                   0\n",
              "gender                    0\n",
              "age                     0.0\n",
              "tenure                  0.0\n",
              "balance                 0.0\n",
              "products_number         0.0\n",
              "credit_card             0.0\n",
              "active_member           0.0\n",
              "estimated_salary        0.0\n",
              "churn                   0.0\n",
              "avg_balance_per_year    0.0\n",
              "credit_score_bin          0\n",
              "age_bin                   0\n",
              "dtype: object"
            ]
          },
          "metadata": {},
          "execution_count": 1036
        }
      ]
    },
    {
      "cell_type": "code",
      "source": [
        "from sklearn.preprocessing import StandardScaler\n",
        "scaler = StandardScaler()\n",
        "X_tran_train = scaler.fit_transform(X_tran_train)\n",
        "\n",
        "X_tran_test = scaler.transform(X_tran_test)"
      ],
      "metadata": {
        "id": "dBOzQW96cOob"
      },
      "execution_count": 1037,
      "outputs": []
    },
    {
      "cell_type": "code",
      "source": [
        "df_corr = pd.DataFrame(X_tran_train, columns = dv.get_feature_names_out())"
      ],
      "metadata": {
        "id": "eqSq21MqfFi2"
      },
      "execution_count": 1038,
      "outputs": []
    },
    {
      "cell_type": "code",
      "source": [
        "df_corr['target'] = y_train"
      ],
      "metadata": {
        "id": "0uuDqI1wgYNm"
      },
      "execution_count": 1039,
      "outputs": []
    },
    {
      "cell_type": "code",
      "source": [
        "df_corr.corr()"
      ],
      "metadata": {
        "colab": {
          "base_uri": "https://localhost:8080/",
          "height": 1000
        },
        "id": "Z091TwkIggG4",
        "outputId": "24d587fd-23d0-4514-fb73-fd124c271148"
      },
      "execution_count": 1040,
      "outputs": [
        {
          "output_type": "execute_result",
          "data": {
            "text/plain": [
              "                                 active_member       age  \\\n",
              "active_member                         1.000000  0.083860   \n",
              "age                                   0.083860  1.000000   \n",
              "age_bin=(17.926, 32.8]                0.013363 -0.643061   \n",
              "age_bin=(32.8, 47.6]                 -0.082400 -0.008748   \n",
              "age_bin=(47.6, 62.4]                  0.032558  0.547434   \n",
              "age_bin=(62.4, 77.2]                  0.119323  0.525330   \n",
              "age_bin=(77.2, 92.0]                  0.044015  0.203582   \n",
              "avg_balance_per_year                  0.018333  0.024255   \n",
              "balance                              -0.014448  0.036442   \n",
              "country=France                        0.003308 -0.033614   \n",
              "country=Germany                      -0.021142  0.046464   \n",
              "country=Spain                         0.017450 -0.007861   \n",
              "credit_card                          -0.018932 -0.009133   \n",
              "credit_score                          0.026482 -0.003117   \n",
              "credit_score_bin=(349.5, 450.0]      -0.022855  0.024336   \n",
              "credit_score_bin=(450.0, 550.0]      -0.020009 -0.004112   \n",
              "credit_score_bin=(550.0, 650.0]       0.004567 -0.000188   \n",
              "credit_score_bin=(650.0, 750.0]       0.018252 -0.005748   \n",
              "credit_score_bin=(750.0, 850.0]      -0.001854  0.002478   \n",
              "estimated_salary                     -0.010341 -0.006203   \n",
              "gender=Female                        -0.021326  0.031391   \n",
              "gender=Male                           0.021326 -0.031391   \n",
              "products_number                       0.007689 -0.041256   \n",
              "tenure                               -0.027791 -0.007202   \n",
              "target                               -0.154936  0.288580   \n",
              "\n",
              "                                 age_bin=(17.926, 32.8]  age_bin=(32.8, 47.6]  \\\n",
              "active_member                                  0.013363             -0.082400   \n",
              "age                                           -0.643061             -0.008748   \n",
              "age_bin=(17.926, 32.8]                         1.000000             -0.686088   \n",
              "age_bin=(32.8, 47.6]                          -0.686088              1.000000   \n",
              "age_bin=(47.6, 62.4]                          -0.247075             -0.436166   \n",
              "age_bin=(62.4, 77.2]                          -0.117180             -0.206861   \n",
              "age_bin=(77.2, 92.0]                          -0.031210             -0.055095   \n",
              "avg_balance_per_year                          -0.019426             -0.004176   \n",
              "balance                                       -0.032903             -0.001009   \n",
              "country=France                                 0.034848             -0.010536   \n",
              "country=Germany                               -0.036979             -0.000112   \n",
              "country=Spain                                 -0.003114              0.012307   \n",
              "credit_card                                    0.013498              0.007044   \n",
              "credit_score                                   0.006550              0.002279   \n",
              "credit_score_bin=(349.5, 450.0]               -0.021466              0.001001   \n",
              "credit_score_bin=(450.0, 550.0]                0.008157             -0.004819   \n",
              "credit_score_bin=(550.0, 650.0]               -0.005692             -0.004464   \n",
              "credit_score_bin=(650.0, 750.0]               -0.003023              0.015851   \n",
              "credit_score_bin=(750.0, 850.0]                0.011627             -0.010712   \n",
              "estimated_salary                               0.005007              0.004078   \n",
              "gender=Female                                 -0.013424             -0.014140   \n",
              "gender=Male                                    0.013424              0.014140   \n",
              "products_number                                0.027681              0.007972   \n",
              "tenure                                         0.001942              0.001773   \n",
              "target                                        -0.193151             -0.051978   \n",
              "\n",
              "                                 age_bin=(47.6, 62.4]  age_bin=(62.4, 77.2]  \\\n",
              "active_member                                0.032558              0.119323   \n",
              "age                                          0.547434              0.525330   \n",
              "age_bin=(17.926, 32.8]                      -0.247075             -0.117180   \n",
              "age_bin=(32.8, 47.6]                        -0.436166             -0.206861   \n",
              "age_bin=(47.6, 62.4]                         1.000000             -0.074495   \n",
              "age_bin=(62.4, 77.2]                        -0.074495              1.000000   \n",
              "age_bin=(77.2, 92.0]                        -0.019841             -0.009410   \n",
              "avg_balance_per_year                         0.032584              0.000586   \n",
              "balance                                      0.048117             -0.003387   \n",
              "country=France                              -0.032485              0.001205   \n",
              "country=Germany                              0.054645             -0.009664   \n",
              "country=Spain                               -0.017402              0.008332   \n",
              "credit_card                                 -0.036644              0.016549   \n",
              "credit_score                                -0.017639              0.009222   \n",
              "credit_score_bin=(349.5, 450.0]              0.025925             -0.001611   \n",
              "credit_score_bin=(450.0, 550.0]             -0.005802              0.005685   \n",
              "credit_score_bin=(550.0, 650.0]              0.023488             -0.014137   \n",
              "credit_score_bin=(650.0, 750.0]             -0.023695              0.004331   \n",
              "credit_score_bin=(750.0, 850.0]             -0.003648              0.007766   \n",
              "estimated_salary                            -0.010543             -0.008298   \n",
              "gender=Female                                0.033941              0.006768   \n",
              "gender=Male                                 -0.033941             -0.006768   \n",
              "products_number                             -0.039836             -0.012023   \n",
              "tenure                                      -0.001773             -0.005794   \n",
              "target                                       0.326636              0.009130   \n",
              "\n",
              "                                 age_bin=(77.2, 92.0]  avg_balance_per_year  \\\n",
              "active_member                                0.044015              0.018333   \n",
              "age                                          0.203582              0.024255   \n",
              "age_bin=(17.926, 32.8]                      -0.031210             -0.019426   \n",
              "age_bin=(32.8, 47.6]                        -0.055095             -0.004176   \n",
              "age_bin=(47.6, 62.4]                        -0.019841              0.032584   \n",
              "age_bin=(62.4, 77.2]                        -0.009410              0.000586   \n",
              "age_bin=(77.2, 92.0]                         1.000000             -0.009367   \n",
              "avg_balance_per_year                        -0.009367              1.000000   \n",
              "balance                                     -0.011866              0.581837   \n",
              "country=France                               0.010150             -0.136927   \n",
              "country=Germany                             -0.006117              0.231975   \n",
              "country=Spain                               -0.005592             -0.075000   \n",
              "credit_card                                 -0.000370             -0.024199   \n",
              "credit_score                                 0.005857             -0.000603   \n",
              "credit_score_bin=(349.5, 450.0]              0.011043              0.006958   \n",
              "credit_score_bin=(450.0, 550.0]             -0.006181              0.000027   \n",
              "credit_score_bin=(550.0, 650.0]             -0.014044             -0.007319   \n",
              "credit_score_bin=(650.0, 750.0]              0.015975             -0.000815   \n",
              "credit_score_bin=(750.0, 850.0]             -0.000980              0.007869   \n",
              "estimated_salary                             0.016824              0.010386   \n",
              "gender=Female                                0.004195              0.007526   \n",
              "gender=Male                                 -0.004195             -0.007526   \n",
              "products_number                             -0.011355             -0.189241   \n",
              "tenure                                      -0.001910             -0.534663   \n",
              "target                                      -0.019121              0.073680   \n",
              "\n",
              "                                  balance  country=France  ...  \\\n",
              "active_member                   -0.014448        0.003308  ...   \n",
              "age                              0.036442       -0.033614  ...   \n",
              "age_bin=(17.926, 32.8]          -0.032903        0.034848  ...   \n",
              "age_bin=(32.8, 47.6]            -0.001009       -0.010536  ...   \n",
              "age_bin=(47.6, 62.4]             0.048117       -0.032485  ...   \n",
              "age_bin=(62.4, 77.2]            -0.003387        0.001205  ...   \n",
              "age_bin=(77.2, 92.0]            -0.011866        0.010150  ...   \n",
              "avg_balance_per_year             0.581837       -0.136927  ...   \n",
              "balance                          1.000000       -0.239032  ...   \n",
              "country=France                  -0.239032        1.000000  ...   \n",
              "country=Germany                  0.406259       -0.580563  ...   \n",
              "country=Spain                   -0.132239       -0.573078  ...   \n",
              "credit_card                     -0.009284        0.006150  ...   \n",
              "credit_score                     0.008201       -0.015282  ...   \n",
              "credit_score_bin=(349.5, 450.0] -0.012171        0.013044  ...   \n",
              "credit_score_bin=(450.0, 550.0] -0.003473        0.014683  ...   \n",
              "credit_score_bin=(550.0, 650.0] -0.004275       -0.015312  ...   \n",
              "credit_score_bin=(650.0, 750.0] -0.001206        0.009357  ...   \n",
              "credit_score_bin=(750.0, 850.0]  0.015080       -0.011522  ...   \n",
              "estimated_salary                 0.009573        0.000335  ...   \n",
              "gender=Female                   -0.014503       -0.014530  ...   \n",
              "gender=Male                      0.014503        0.014530  ...   \n",
              "products_number                 -0.301414       -0.000281  ...   \n",
              "tenure                          -0.017705       -0.001272  ...   \n",
              "target                           0.117209       -0.105651  ...   \n",
              "\n",
              "                                 credit_score_bin=(450.0, 550.0]  \\\n",
              "active_member                                          -0.020009   \n",
              "age                                                    -0.004112   \n",
              "age_bin=(17.926, 32.8]                                  0.008157   \n",
              "age_bin=(32.8, 47.6]                                   -0.004819   \n",
              "age_bin=(47.6, 62.4]                                   -0.005802   \n",
              "age_bin=(62.4, 77.2]                                    0.005685   \n",
              "age_bin=(77.2, 92.0]                                   -0.006181   \n",
              "avg_balance_per_year                                    0.000027   \n",
              "balance                                                -0.003473   \n",
              "country=France                                          0.014683   \n",
              "country=Germany                                         0.000754   \n",
              "country=Spain                                          -0.017753   \n",
              "credit_card                                            -0.005521   \n",
              "credit_score                                           -0.581242   \n",
              "credit_score_bin=(349.5, 450.0]                        -0.057665   \n",
              "credit_score_bin=(450.0, 550.0]                         1.000000   \n",
              "credit_score_bin=(550.0, 650.0]                        -0.288352   \n",
              "credit_score_bin=(650.0, 750.0]                        -0.298735   \n",
              "credit_score_bin=(750.0, 850.0]                        -0.176547   \n",
              "estimated_salary                                       -0.001013   \n",
              "gender=Female                                           0.004902   \n",
              "gender=Male                                            -0.004902   \n",
              "products_number                                        -0.010602   \n",
              "tenure                                                  0.002504   \n",
              "target                                                  0.012717   \n",
              "\n",
              "                                 credit_score_bin=(550.0, 650.0]  \\\n",
              "active_member                                           0.004567   \n",
              "age                                                    -0.000188   \n",
              "age_bin=(17.926, 32.8]                                 -0.005692   \n",
              "age_bin=(32.8, 47.6]                                   -0.004464   \n",
              "age_bin=(47.6, 62.4]                                    0.023488   \n",
              "age_bin=(62.4, 77.2]                                   -0.014137   \n",
              "age_bin=(77.2, 92.0]                                   -0.014044   \n",
              "avg_balance_per_year                                   -0.007319   \n",
              "balance                                                -0.004275   \n",
              "country=France                                         -0.015312   \n",
              "country=Germany                                         0.006377   \n",
              "country=Spain                                           0.011304   \n",
              "credit_card                                             0.003563   \n",
              "credit_score                                           -0.332601   \n",
              "credit_score_bin=(349.5, 450.0]                        -0.099448   \n",
              "credit_score_bin=(450.0, 550.0]                        -0.288352   \n",
              "credit_score_bin=(550.0, 650.0]                         1.000000   \n",
              "credit_score_bin=(650.0, 750.0]                        -0.515192   \n",
              "credit_score_bin=(750.0, 850.0]                        -0.304470   \n",
              "estimated_salary                                       -0.018528   \n",
              "gender=Female                                          -0.001369   \n",
              "gender=Male                                             0.001369   \n",
              "products_number                                         0.009821   \n",
              "tenure                                                 -0.000605   \n",
              "target                                                  0.007447   \n",
              "\n",
              "                                 credit_score_bin=(650.0, 750.0]  \\\n",
              "active_member                                           0.018252   \n",
              "age                                                    -0.005748   \n",
              "age_bin=(17.926, 32.8]                                 -0.003023   \n",
              "age_bin=(32.8, 47.6]                                    0.015851   \n",
              "age_bin=(47.6, 62.4]                                   -0.023695   \n",
              "age_bin=(62.4, 77.2]                                    0.004331   \n",
              "age_bin=(77.2, 92.0]                                    0.015975   \n",
              "avg_balance_per_year                                   -0.000815   \n",
              "balance                                                -0.001206   \n",
              "country=France                                          0.009357   \n",
              "country=Germany                                        -0.024564   \n",
              "country=Spain                                           0.013894   \n",
              "credit_card                                            -0.005283   \n",
              "credit_score                                            0.352234   \n",
              "credit_score_bin=(349.5, 450.0]                        -0.103029   \n",
              "credit_score_bin=(450.0, 550.0]                        -0.298735   \n",
              "credit_score_bin=(550.0, 650.0]                        -0.515192   \n",
              "credit_score_bin=(650.0, 750.0]                         1.000000   \n",
              "credit_score_bin=(750.0, 850.0]                        -0.315433   \n",
              "estimated_salary                                        0.011619   \n",
              "gender=Female                                           0.002756   \n",
              "gender=Male                                            -0.002756   \n",
              "products_number                                        -0.009064   \n",
              "tenure                                                  0.009221   \n",
              "target                                                 -0.019273   \n",
              "\n",
              "                                 credit_score_bin=(750.0, 850.0]  \\\n",
              "active_member                                          -0.001854   \n",
              "age                                                     0.002478   \n",
              "age_bin=(17.926, 32.8]                                  0.011627   \n",
              "age_bin=(32.8, 47.6]                                   -0.010712   \n",
              "age_bin=(47.6, 62.4]                                   -0.003648   \n",
              "age_bin=(62.4, 77.2]                                    0.007766   \n",
              "age_bin=(77.2, 92.0]                                   -0.000980   \n",
              "avg_balance_per_year                                    0.007869   \n",
              "balance                                                 0.015080   \n",
              "country=France                                         -0.011522   \n",
              "country=Germany                                         0.025139   \n",
              "country=Spain                                          -0.011967   \n",
              "credit_card                                             0.002149   \n",
              "credit_score                                            0.654332   \n",
              "credit_score_bin=(349.5, 450.0]                        -0.060888   \n",
              "credit_score_bin=(450.0, 550.0]                        -0.176547   \n",
              "credit_score_bin=(550.0, 650.0]                        -0.304470   \n",
              "credit_score_bin=(650.0, 750.0]                        -0.315433   \n",
              "credit_score_bin=(750.0, 850.0]                         1.000000   \n",
              "estimated_salary                                        0.007846   \n",
              "gender=Female                                          -0.002771   \n",
              "gender=Male                                             0.002771   \n",
              "products_number                                         0.011097   \n",
              "tenure                                                 -0.011141   \n",
              "target                                                 -0.011314   \n",
              "\n",
              "                                 estimated_salary  gender=Female  gender=Male  \\\n",
              "active_member                           -0.010341      -0.021326     0.021326   \n",
              "age                                     -0.006203       0.031391    -0.031391   \n",
              "age_bin=(17.926, 32.8]                   0.005007      -0.013424     0.013424   \n",
              "age_bin=(32.8, 47.6]                     0.004078      -0.014140     0.014140   \n",
              "age_bin=(47.6, 62.4]                    -0.010543       0.033941    -0.033941   \n",
              "age_bin=(62.4, 77.2]                    -0.008298       0.006768    -0.006768   \n",
              "age_bin=(77.2, 92.0]                     0.016824       0.004195    -0.004195   \n",
              "avg_balance_per_year                     0.010386       0.007526    -0.007526   \n",
              "balance                                  0.009573      -0.014503     0.014503   \n",
              "country=France                           0.000335      -0.014530     0.014530   \n",
              "country=Germany                          0.011108       0.025990    -0.025990   \n",
              "country=Spain                           -0.011568      -0.009341     0.009341   \n",
              "credit_card                             -0.000675      -0.009652     0.009652   \n",
              "credit_score                             0.007207      -0.003294     0.003294   \n",
              "credit_score_bin=(349.5, 450.0]          0.005000      -0.009955     0.009955   \n",
              "credit_score_bin=(450.0, 550.0]         -0.001013       0.004902    -0.004902   \n",
              "credit_score_bin=(550.0, 650.0]         -0.018528      -0.001369     0.001369   \n",
              "credit_score_bin=(650.0, 750.0]          0.011619       0.002756    -0.002756   \n",
              "credit_score_bin=(750.0, 850.0]          0.007846      -0.002771     0.002771   \n",
              "estimated_salary                         1.000000       0.008777    -0.008777   \n",
              "gender=Female                            0.008777       1.000000    -1.000000   \n",
              "gender=Male                             -0.008777      -1.000000     1.000000   \n",
              "products_number                          0.020553       0.025102    -0.025102   \n",
              "tenure                                   0.007244      -0.014455     0.014455   \n",
              "target                                   0.010583       0.101872    -0.101872   \n",
              "\n",
              "                                 products_number    tenure    target  \n",
              "active_member                           0.007689 -0.027791 -0.154936  \n",
              "age                                    -0.041256 -0.007202  0.288580  \n",
              "age_bin=(17.926, 32.8]                  0.027681  0.001942 -0.193151  \n",
              "age_bin=(32.8, 47.6]                    0.007972  0.001773 -0.051978  \n",
              "age_bin=(47.6, 62.4]                   -0.039836 -0.001773  0.326636  \n",
              "age_bin=(62.4, 77.2]                   -0.012023 -0.005794  0.009130  \n",
              "age_bin=(77.2, 92.0]                   -0.011355 -0.001910 -0.019121  \n",
              "avg_balance_per_year                   -0.189241 -0.534663  0.073680  \n",
              "balance                                -0.301414 -0.017705  0.117209  \n",
              "country=France                         -0.000281 -0.001272 -0.105651  \n",
              "country=Germany                        -0.008194 -0.002132  0.174224  \n",
              "country=Spain                           0.008573  0.003618 -0.053073  \n",
              "credit_card                            -0.004930  0.022390  0.003937  \n",
              "credit_score                            0.010991 -0.002499 -0.030422  \n",
              "credit_score_bin=(349.5, 450.0]        -0.004570 -0.006726  0.038584  \n",
              "credit_score_bin=(450.0, 550.0]        -0.010602  0.002504  0.012717  \n",
              "credit_score_bin=(550.0, 650.0]         0.009821 -0.000605  0.007447  \n",
              "credit_score_bin=(650.0, 750.0]        -0.009064  0.009221 -0.019273  \n",
              "credit_score_bin=(750.0, 850.0]         0.011097 -0.011141 -0.011314  \n",
              "estimated_salary                        0.020553  0.007244  0.010583  \n",
              "gender=Female                           0.025102 -0.014455  0.101872  \n",
              "gender=Male                            -0.025102  0.014455 -0.101872  \n",
              "products_number                         1.000000  0.014370 -0.050836  \n",
              "tenure                                  0.014370  1.000000 -0.007492  \n",
              "target                                 -0.050836 -0.007492  1.000000  \n",
              "\n",
              "[25 rows x 25 columns]"
            ],
            "text/html": [
              "\n",
              "  <div id=\"df-955f31f2-ec20-40cf-b8ee-c61b0b7a9b4a\">\n",
              "    <div class=\"colab-df-container\">\n",
              "      <div>\n",
              "<style scoped>\n",
              "    .dataframe tbody tr th:only-of-type {\n",
              "        vertical-align: middle;\n",
              "    }\n",
              "\n",
              "    .dataframe tbody tr th {\n",
              "        vertical-align: top;\n",
              "    }\n",
              "\n",
              "    .dataframe thead th {\n",
              "        text-align: right;\n",
              "    }\n",
              "</style>\n",
              "<table border=\"1\" class=\"dataframe\">\n",
              "  <thead>\n",
              "    <tr style=\"text-align: right;\">\n",
              "      <th></th>\n",
              "      <th>active_member</th>\n",
              "      <th>age</th>\n",
              "      <th>age_bin=(17.926, 32.8]</th>\n",
              "      <th>age_bin=(32.8, 47.6]</th>\n",
              "      <th>age_bin=(47.6, 62.4]</th>\n",
              "      <th>age_bin=(62.4, 77.2]</th>\n",
              "      <th>age_bin=(77.2, 92.0]</th>\n",
              "      <th>avg_balance_per_year</th>\n",
              "      <th>balance</th>\n",
              "      <th>country=France</th>\n",
              "      <th>...</th>\n",
              "      <th>credit_score_bin=(450.0, 550.0]</th>\n",
              "      <th>credit_score_bin=(550.0, 650.0]</th>\n",
              "      <th>credit_score_bin=(650.0, 750.0]</th>\n",
              "      <th>credit_score_bin=(750.0, 850.0]</th>\n",
              "      <th>estimated_salary</th>\n",
              "      <th>gender=Female</th>\n",
              "      <th>gender=Male</th>\n",
              "      <th>products_number</th>\n",
              "      <th>tenure</th>\n",
              "      <th>target</th>\n",
              "    </tr>\n",
              "  </thead>\n",
              "  <tbody>\n",
              "    <tr>\n",
              "      <th>active_member</th>\n",
              "      <td>1.000000</td>\n",
              "      <td>0.083860</td>\n",
              "      <td>0.013363</td>\n",
              "      <td>-0.082400</td>\n",
              "      <td>0.032558</td>\n",
              "      <td>0.119323</td>\n",
              "      <td>0.044015</td>\n",
              "      <td>0.018333</td>\n",
              "      <td>-0.014448</td>\n",
              "      <td>0.003308</td>\n",
              "      <td>...</td>\n",
              "      <td>-0.020009</td>\n",
              "      <td>0.004567</td>\n",
              "      <td>0.018252</td>\n",
              "      <td>-0.001854</td>\n",
              "      <td>-0.010341</td>\n",
              "      <td>-0.021326</td>\n",
              "      <td>0.021326</td>\n",
              "      <td>0.007689</td>\n",
              "      <td>-0.027791</td>\n",
              "      <td>-0.154936</td>\n",
              "    </tr>\n",
              "    <tr>\n",
              "      <th>age</th>\n",
              "      <td>0.083860</td>\n",
              "      <td>1.000000</td>\n",
              "      <td>-0.643061</td>\n",
              "      <td>-0.008748</td>\n",
              "      <td>0.547434</td>\n",
              "      <td>0.525330</td>\n",
              "      <td>0.203582</td>\n",
              "      <td>0.024255</td>\n",
              "      <td>0.036442</td>\n",
              "      <td>-0.033614</td>\n",
              "      <td>...</td>\n",
              "      <td>-0.004112</td>\n",
              "      <td>-0.000188</td>\n",
              "      <td>-0.005748</td>\n",
              "      <td>0.002478</td>\n",
              "      <td>-0.006203</td>\n",
              "      <td>0.031391</td>\n",
              "      <td>-0.031391</td>\n",
              "      <td>-0.041256</td>\n",
              "      <td>-0.007202</td>\n",
              "      <td>0.288580</td>\n",
              "    </tr>\n",
              "    <tr>\n",
              "      <th>age_bin=(17.926, 32.8]</th>\n",
              "      <td>0.013363</td>\n",
              "      <td>-0.643061</td>\n",
              "      <td>1.000000</td>\n",
              "      <td>-0.686088</td>\n",
              "      <td>-0.247075</td>\n",
              "      <td>-0.117180</td>\n",
              "      <td>-0.031210</td>\n",
              "      <td>-0.019426</td>\n",
              "      <td>-0.032903</td>\n",
              "      <td>0.034848</td>\n",
              "      <td>...</td>\n",
              "      <td>0.008157</td>\n",
              "      <td>-0.005692</td>\n",
              "      <td>-0.003023</td>\n",
              "      <td>0.011627</td>\n",
              "      <td>0.005007</td>\n",
              "      <td>-0.013424</td>\n",
              "      <td>0.013424</td>\n",
              "      <td>0.027681</td>\n",
              "      <td>0.001942</td>\n",
              "      <td>-0.193151</td>\n",
              "    </tr>\n",
              "    <tr>\n",
              "      <th>age_bin=(32.8, 47.6]</th>\n",
              "      <td>-0.082400</td>\n",
              "      <td>-0.008748</td>\n",
              "      <td>-0.686088</td>\n",
              "      <td>1.000000</td>\n",
              "      <td>-0.436166</td>\n",
              "      <td>-0.206861</td>\n",
              "      <td>-0.055095</td>\n",
              "      <td>-0.004176</td>\n",
              "      <td>-0.001009</td>\n",
              "      <td>-0.010536</td>\n",
              "      <td>...</td>\n",
              "      <td>-0.004819</td>\n",
              "      <td>-0.004464</td>\n",
              "      <td>0.015851</td>\n",
              "      <td>-0.010712</td>\n",
              "      <td>0.004078</td>\n",
              "      <td>-0.014140</td>\n",
              "      <td>0.014140</td>\n",
              "      <td>0.007972</td>\n",
              "      <td>0.001773</td>\n",
              "      <td>-0.051978</td>\n",
              "    </tr>\n",
              "    <tr>\n",
              "      <th>age_bin=(47.6, 62.4]</th>\n",
              "      <td>0.032558</td>\n",
              "      <td>0.547434</td>\n",
              "      <td>-0.247075</td>\n",
              "      <td>-0.436166</td>\n",
              "      <td>1.000000</td>\n",
              "      <td>-0.074495</td>\n",
              "      <td>-0.019841</td>\n",
              "      <td>0.032584</td>\n",
              "      <td>0.048117</td>\n",
              "      <td>-0.032485</td>\n",
              "      <td>...</td>\n",
              "      <td>-0.005802</td>\n",
              "      <td>0.023488</td>\n",
              "      <td>-0.023695</td>\n",
              "      <td>-0.003648</td>\n",
              "      <td>-0.010543</td>\n",
              "      <td>0.033941</td>\n",
              "      <td>-0.033941</td>\n",
              "      <td>-0.039836</td>\n",
              "      <td>-0.001773</td>\n",
              "      <td>0.326636</td>\n",
              "    </tr>\n",
              "    <tr>\n",
              "      <th>age_bin=(62.4, 77.2]</th>\n",
              "      <td>0.119323</td>\n",
              "      <td>0.525330</td>\n",
              "      <td>-0.117180</td>\n",
              "      <td>-0.206861</td>\n",
              "      <td>-0.074495</td>\n",
              "      <td>1.000000</td>\n",
              "      <td>-0.009410</td>\n",
              "      <td>0.000586</td>\n",
              "      <td>-0.003387</td>\n",
              "      <td>0.001205</td>\n",
              "      <td>...</td>\n",
              "      <td>0.005685</td>\n",
              "      <td>-0.014137</td>\n",
              "      <td>0.004331</td>\n",
              "      <td>0.007766</td>\n",
              "      <td>-0.008298</td>\n",
              "      <td>0.006768</td>\n",
              "      <td>-0.006768</td>\n",
              "      <td>-0.012023</td>\n",
              "      <td>-0.005794</td>\n",
              "      <td>0.009130</td>\n",
              "    </tr>\n",
              "    <tr>\n",
              "      <th>age_bin=(77.2, 92.0]</th>\n",
              "      <td>0.044015</td>\n",
              "      <td>0.203582</td>\n",
              "      <td>-0.031210</td>\n",
              "      <td>-0.055095</td>\n",
              "      <td>-0.019841</td>\n",
              "      <td>-0.009410</td>\n",
              "      <td>1.000000</td>\n",
              "      <td>-0.009367</td>\n",
              "      <td>-0.011866</td>\n",
              "      <td>0.010150</td>\n",
              "      <td>...</td>\n",
              "      <td>-0.006181</td>\n",
              "      <td>-0.014044</td>\n",
              "      <td>0.015975</td>\n",
              "      <td>-0.000980</td>\n",
              "      <td>0.016824</td>\n",
              "      <td>0.004195</td>\n",
              "      <td>-0.004195</td>\n",
              "      <td>-0.011355</td>\n",
              "      <td>-0.001910</td>\n",
              "      <td>-0.019121</td>\n",
              "    </tr>\n",
              "    <tr>\n",
              "      <th>avg_balance_per_year</th>\n",
              "      <td>0.018333</td>\n",
              "      <td>0.024255</td>\n",
              "      <td>-0.019426</td>\n",
              "      <td>-0.004176</td>\n",
              "      <td>0.032584</td>\n",
              "      <td>0.000586</td>\n",
              "      <td>-0.009367</td>\n",
              "      <td>1.000000</td>\n",
              "      <td>0.581837</td>\n",
              "      <td>-0.136927</td>\n",
              "      <td>...</td>\n",
              "      <td>0.000027</td>\n",
              "      <td>-0.007319</td>\n",
              "      <td>-0.000815</td>\n",
              "      <td>0.007869</td>\n",
              "      <td>0.010386</td>\n",
              "      <td>0.007526</td>\n",
              "      <td>-0.007526</td>\n",
              "      <td>-0.189241</td>\n",
              "      <td>-0.534663</td>\n",
              "      <td>0.073680</td>\n",
              "    </tr>\n",
              "    <tr>\n",
              "      <th>balance</th>\n",
              "      <td>-0.014448</td>\n",
              "      <td>0.036442</td>\n",
              "      <td>-0.032903</td>\n",
              "      <td>-0.001009</td>\n",
              "      <td>0.048117</td>\n",
              "      <td>-0.003387</td>\n",
              "      <td>-0.011866</td>\n",
              "      <td>0.581837</td>\n",
              "      <td>1.000000</td>\n",
              "      <td>-0.239032</td>\n",
              "      <td>...</td>\n",
              "      <td>-0.003473</td>\n",
              "      <td>-0.004275</td>\n",
              "      <td>-0.001206</td>\n",
              "      <td>0.015080</td>\n",
              "      <td>0.009573</td>\n",
              "      <td>-0.014503</td>\n",
              "      <td>0.014503</td>\n",
              "      <td>-0.301414</td>\n",
              "      <td>-0.017705</td>\n",
              "      <td>0.117209</td>\n",
              "    </tr>\n",
              "    <tr>\n",
              "      <th>country=France</th>\n",
              "      <td>0.003308</td>\n",
              "      <td>-0.033614</td>\n",
              "      <td>0.034848</td>\n",
              "      <td>-0.010536</td>\n",
              "      <td>-0.032485</td>\n",
              "      <td>0.001205</td>\n",
              "      <td>0.010150</td>\n",
              "      <td>-0.136927</td>\n",
              "      <td>-0.239032</td>\n",
              "      <td>1.000000</td>\n",
              "      <td>...</td>\n",
              "      <td>0.014683</td>\n",
              "      <td>-0.015312</td>\n",
              "      <td>0.009357</td>\n",
              "      <td>-0.011522</td>\n",
              "      <td>0.000335</td>\n",
              "      <td>-0.014530</td>\n",
              "      <td>0.014530</td>\n",
              "      <td>-0.000281</td>\n",
              "      <td>-0.001272</td>\n",
              "      <td>-0.105651</td>\n",
              "    </tr>\n",
              "    <tr>\n",
              "      <th>country=Germany</th>\n",
              "      <td>-0.021142</td>\n",
              "      <td>0.046464</td>\n",
              "      <td>-0.036979</td>\n",
              "      <td>-0.000112</td>\n",
              "      <td>0.054645</td>\n",
              "      <td>-0.009664</td>\n",
              "      <td>-0.006117</td>\n",
              "      <td>0.231975</td>\n",
              "      <td>0.406259</td>\n",
              "      <td>-0.580563</td>\n",
              "      <td>...</td>\n",
              "      <td>0.000754</td>\n",
              "      <td>0.006377</td>\n",
              "      <td>-0.024564</td>\n",
              "      <td>0.025139</td>\n",
              "      <td>0.011108</td>\n",
              "      <td>0.025990</td>\n",
              "      <td>-0.025990</td>\n",
              "      <td>-0.008194</td>\n",
              "      <td>-0.002132</td>\n",
              "      <td>0.174224</td>\n",
              "    </tr>\n",
              "    <tr>\n",
              "      <th>country=Spain</th>\n",
              "      <td>0.017450</td>\n",
              "      <td>-0.007861</td>\n",
              "      <td>-0.003114</td>\n",
              "      <td>0.012307</td>\n",
              "      <td>-0.017402</td>\n",
              "      <td>0.008332</td>\n",
              "      <td>-0.005592</td>\n",
              "      <td>-0.075000</td>\n",
              "      <td>-0.132239</td>\n",
              "      <td>-0.573078</td>\n",
              "      <td>...</td>\n",
              "      <td>-0.017753</td>\n",
              "      <td>0.011304</td>\n",
              "      <td>0.013894</td>\n",
              "      <td>-0.011967</td>\n",
              "      <td>-0.011568</td>\n",
              "      <td>-0.009341</td>\n",
              "      <td>0.009341</td>\n",
              "      <td>0.008573</td>\n",
              "      <td>0.003618</td>\n",
              "      <td>-0.053073</td>\n",
              "    </tr>\n",
              "    <tr>\n",
              "      <th>credit_card</th>\n",
              "      <td>-0.018932</td>\n",
              "      <td>-0.009133</td>\n",
              "      <td>0.013498</td>\n",
              "      <td>0.007044</td>\n",
              "      <td>-0.036644</td>\n",
              "      <td>0.016549</td>\n",
              "      <td>-0.000370</td>\n",
              "      <td>-0.024199</td>\n",
              "      <td>-0.009284</td>\n",
              "      <td>0.006150</td>\n",
              "      <td>...</td>\n",
              "      <td>-0.005521</td>\n",
              "      <td>0.003563</td>\n",
              "      <td>-0.005283</td>\n",
              "      <td>0.002149</td>\n",
              "      <td>-0.000675</td>\n",
              "      <td>-0.009652</td>\n",
              "      <td>0.009652</td>\n",
              "      <td>-0.004930</td>\n",
              "      <td>0.022390</td>\n",
              "      <td>0.003937</td>\n",
              "    </tr>\n",
              "    <tr>\n",
              "      <th>credit_score</th>\n",
              "      <td>0.026482</td>\n",
              "      <td>-0.003117</td>\n",
              "      <td>0.006550</td>\n",
              "      <td>0.002279</td>\n",
              "      <td>-0.017639</td>\n",
              "      <td>0.009222</td>\n",
              "      <td>0.005857</td>\n",
              "      <td>-0.000603</td>\n",
              "      <td>0.008201</td>\n",
              "      <td>-0.015282</td>\n",
              "      <td>...</td>\n",
              "      <td>-0.581242</td>\n",
              "      <td>-0.332601</td>\n",
              "      <td>0.352234</td>\n",
              "      <td>0.654332</td>\n",
              "      <td>0.007207</td>\n",
              "      <td>-0.003294</td>\n",
              "      <td>0.003294</td>\n",
              "      <td>0.010991</td>\n",
              "      <td>-0.002499</td>\n",
              "      <td>-0.030422</td>\n",
              "    </tr>\n",
              "    <tr>\n",
              "      <th>credit_score_bin=(349.5, 450.0]</th>\n",
              "      <td>-0.022855</td>\n",
              "      <td>0.024336</td>\n",
              "      <td>-0.021466</td>\n",
              "      <td>0.001001</td>\n",
              "      <td>0.025925</td>\n",
              "      <td>-0.001611</td>\n",
              "      <td>0.011043</td>\n",
              "      <td>0.006958</td>\n",
              "      <td>-0.012171</td>\n",
              "      <td>0.013044</td>\n",
              "      <td>...</td>\n",
              "      <td>-0.057665</td>\n",
              "      <td>-0.099448</td>\n",
              "      <td>-0.103029</td>\n",
              "      <td>-0.060888</td>\n",
              "      <td>0.005000</td>\n",
              "      <td>-0.009955</td>\n",
              "      <td>0.009955</td>\n",
              "      <td>-0.004570</td>\n",
              "      <td>-0.006726</td>\n",
              "      <td>0.038584</td>\n",
              "    </tr>\n",
              "    <tr>\n",
              "      <th>credit_score_bin=(450.0, 550.0]</th>\n",
              "      <td>-0.020009</td>\n",
              "      <td>-0.004112</td>\n",
              "      <td>0.008157</td>\n",
              "      <td>-0.004819</td>\n",
              "      <td>-0.005802</td>\n",
              "      <td>0.005685</td>\n",
              "      <td>-0.006181</td>\n",
              "      <td>0.000027</td>\n",
              "      <td>-0.003473</td>\n",
              "      <td>0.014683</td>\n",
              "      <td>...</td>\n",
              "      <td>1.000000</td>\n",
              "      <td>-0.288352</td>\n",
              "      <td>-0.298735</td>\n",
              "      <td>-0.176547</td>\n",
              "      <td>-0.001013</td>\n",
              "      <td>0.004902</td>\n",
              "      <td>-0.004902</td>\n",
              "      <td>-0.010602</td>\n",
              "      <td>0.002504</td>\n",
              "      <td>0.012717</td>\n",
              "    </tr>\n",
              "    <tr>\n",
              "      <th>credit_score_bin=(550.0, 650.0]</th>\n",
              "      <td>0.004567</td>\n",
              "      <td>-0.000188</td>\n",
              "      <td>-0.005692</td>\n",
              "      <td>-0.004464</td>\n",
              "      <td>0.023488</td>\n",
              "      <td>-0.014137</td>\n",
              "      <td>-0.014044</td>\n",
              "      <td>-0.007319</td>\n",
              "      <td>-0.004275</td>\n",
              "      <td>-0.015312</td>\n",
              "      <td>...</td>\n",
              "      <td>-0.288352</td>\n",
              "      <td>1.000000</td>\n",
              "      <td>-0.515192</td>\n",
              "      <td>-0.304470</td>\n",
              "      <td>-0.018528</td>\n",
              "      <td>-0.001369</td>\n",
              "      <td>0.001369</td>\n",
              "      <td>0.009821</td>\n",
              "      <td>-0.000605</td>\n",
              "      <td>0.007447</td>\n",
              "    </tr>\n",
              "    <tr>\n",
              "      <th>credit_score_bin=(650.0, 750.0]</th>\n",
              "      <td>0.018252</td>\n",
              "      <td>-0.005748</td>\n",
              "      <td>-0.003023</td>\n",
              "      <td>0.015851</td>\n",
              "      <td>-0.023695</td>\n",
              "      <td>0.004331</td>\n",
              "      <td>0.015975</td>\n",
              "      <td>-0.000815</td>\n",
              "      <td>-0.001206</td>\n",
              "      <td>0.009357</td>\n",
              "      <td>...</td>\n",
              "      <td>-0.298735</td>\n",
              "      <td>-0.515192</td>\n",
              "      <td>1.000000</td>\n",
              "      <td>-0.315433</td>\n",
              "      <td>0.011619</td>\n",
              "      <td>0.002756</td>\n",
              "      <td>-0.002756</td>\n",
              "      <td>-0.009064</td>\n",
              "      <td>0.009221</td>\n",
              "      <td>-0.019273</td>\n",
              "    </tr>\n",
              "    <tr>\n",
              "      <th>credit_score_bin=(750.0, 850.0]</th>\n",
              "      <td>-0.001854</td>\n",
              "      <td>0.002478</td>\n",
              "      <td>0.011627</td>\n",
              "      <td>-0.010712</td>\n",
              "      <td>-0.003648</td>\n",
              "      <td>0.007766</td>\n",
              "      <td>-0.000980</td>\n",
              "      <td>0.007869</td>\n",
              "      <td>0.015080</td>\n",
              "      <td>-0.011522</td>\n",
              "      <td>...</td>\n",
              "      <td>-0.176547</td>\n",
              "      <td>-0.304470</td>\n",
              "      <td>-0.315433</td>\n",
              "      <td>1.000000</td>\n",
              "      <td>0.007846</td>\n",
              "      <td>-0.002771</td>\n",
              "      <td>0.002771</td>\n",
              "      <td>0.011097</td>\n",
              "      <td>-0.011141</td>\n",
              "      <td>-0.011314</td>\n",
              "    </tr>\n",
              "    <tr>\n",
              "      <th>estimated_salary</th>\n",
              "      <td>-0.010341</td>\n",
              "      <td>-0.006203</td>\n",
              "      <td>0.005007</td>\n",
              "      <td>0.004078</td>\n",
              "      <td>-0.010543</td>\n",
              "      <td>-0.008298</td>\n",
              "      <td>0.016824</td>\n",
              "      <td>0.010386</td>\n",
              "      <td>0.009573</td>\n",
              "      <td>0.000335</td>\n",
              "      <td>...</td>\n",
              "      <td>-0.001013</td>\n",
              "      <td>-0.018528</td>\n",
              "      <td>0.011619</td>\n",
              "      <td>0.007846</td>\n",
              "      <td>1.000000</td>\n",
              "      <td>0.008777</td>\n",
              "      <td>-0.008777</td>\n",
              "      <td>0.020553</td>\n",
              "      <td>0.007244</td>\n",
              "      <td>0.010583</td>\n",
              "    </tr>\n",
              "    <tr>\n",
              "      <th>gender=Female</th>\n",
              "      <td>-0.021326</td>\n",
              "      <td>0.031391</td>\n",
              "      <td>-0.013424</td>\n",
              "      <td>-0.014140</td>\n",
              "      <td>0.033941</td>\n",
              "      <td>0.006768</td>\n",
              "      <td>0.004195</td>\n",
              "      <td>0.007526</td>\n",
              "      <td>-0.014503</td>\n",
              "      <td>-0.014530</td>\n",
              "      <td>...</td>\n",
              "      <td>0.004902</td>\n",
              "      <td>-0.001369</td>\n",
              "      <td>0.002756</td>\n",
              "      <td>-0.002771</td>\n",
              "      <td>0.008777</td>\n",
              "      <td>1.000000</td>\n",
              "      <td>-1.000000</td>\n",
              "      <td>0.025102</td>\n",
              "      <td>-0.014455</td>\n",
              "      <td>0.101872</td>\n",
              "    </tr>\n",
              "    <tr>\n",
              "      <th>gender=Male</th>\n",
              "      <td>0.021326</td>\n",
              "      <td>-0.031391</td>\n",
              "      <td>0.013424</td>\n",
              "      <td>0.014140</td>\n",
              "      <td>-0.033941</td>\n",
              "      <td>-0.006768</td>\n",
              "      <td>-0.004195</td>\n",
              "      <td>-0.007526</td>\n",
              "      <td>0.014503</td>\n",
              "      <td>0.014530</td>\n",
              "      <td>...</td>\n",
              "      <td>-0.004902</td>\n",
              "      <td>0.001369</td>\n",
              "      <td>-0.002756</td>\n",
              "      <td>0.002771</td>\n",
              "      <td>-0.008777</td>\n",
              "      <td>-1.000000</td>\n",
              "      <td>1.000000</td>\n",
              "      <td>-0.025102</td>\n",
              "      <td>0.014455</td>\n",
              "      <td>-0.101872</td>\n",
              "    </tr>\n",
              "    <tr>\n",
              "      <th>products_number</th>\n",
              "      <td>0.007689</td>\n",
              "      <td>-0.041256</td>\n",
              "      <td>0.027681</td>\n",
              "      <td>0.007972</td>\n",
              "      <td>-0.039836</td>\n",
              "      <td>-0.012023</td>\n",
              "      <td>-0.011355</td>\n",
              "      <td>-0.189241</td>\n",
              "      <td>-0.301414</td>\n",
              "      <td>-0.000281</td>\n",
              "      <td>...</td>\n",
              "      <td>-0.010602</td>\n",
              "      <td>0.009821</td>\n",
              "      <td>-0.009064</td>\n",
              "      <td>0.011097</td>\n",
              "      <td>0.020553</td>\n",
              "      <td>0.025102</td>\n",
              "      <td>-0.025102</td>\n",
              "      <td>1.000000</td>\n",
              "      <td>0.014370</td>\n",
              "      <td>-0.050836</td>\n",
              "    </tr>\n",
              "    <tr>\n",
              "      <th>tenure</th>\n",
              "      <td>-0.027791</td>\n",
              "      <td>-0.007202</td>\n",
              "      <td>0.001942</td>\n",
              "      <td>0.001773</td>\n",
              "      <td>-0.001773</td>\n",
              "      <td>-0.005794</td>\n",
              "      <td>-0.001910</td>\n",
              "      <td>-0.534663</td>\n",
              "      <td>-0.017705</td>\n",
              "      <td>-0.001272</td>\n",
              "      <td>...</td>\n",
              "      <td>0.002504</td>\n",
              "      <td>-0.000605</td>\n",
              "      <td>0.009221</td>\n",
              "      <td>-0.011141</td>\n",
              "      <td>0.007244</td>\n",
              "      <td>-0.014455</td>\n",
              "      <td>0.014455</td>\n",
              "      <td>0.014370</td>\n",
              "      <td>1.000000</td>\n",
              "      <td>-0.007492</td>\n",
              "    </tr>\n",
              "    <tr>\n",
              "      <th>target</th>\n",
              "      <td>-0.154936</td>\n",
              "      <td>0.288580</td>\n",
              "      <td>-0.193151</td>\n",
              "      <td>-0.051978</td>\n",
              "      <td>0.326636</td>\n",
              "      <td>0.009130</td>\n",
              "      <td>-0.019121</td>\n",
              "      <td>0.073680</td>\n",
              "      <td>0.117209</td>\n",
              "      <td>-0.105651</td>\n",
              "      <td>...</td>\n",
              "      <td>0.012717</td>\n",
              "      <td>0.007447</td>\n",
              "      <td>-0.019273</td>\n",
              "      <td>-0.011314</td>\n",
              "      <td>0.010583</td>\n",
              "      <td>0.101872</td>\n",
              "      <td>-0.101872</td>\n",
              "      <td>-0.050836</td>\n",
              "      <td>-0.007492</td>\n",
              "      <td>1.000000</td>\n",
              "    </tr>\n",
              "  </tbody>\n",
              "</table>\n",
              "<p>25 rows × 25 columns</p>\n",
              "</div>\n",
              "      <button class=\"colab-df-convert\" onclick=\"convertToInteractive('df-955f31f2-ec20-40cf-b8ee-c61b0b7a9b4a')\"\n",
              "              title=\"Convert this dataframe to an interactive table.\"\n",
              "              style=\"display:none;\">\n",
              "        \n",
              "  <svg xmlns=\"http://www.w3.org/2000/svg\" height=\"24px\"viewBox=\"0 0 24 24\"\n",
              "       width=\"24px\">\n",
              "    <path d=\"M0 0h24v24H0V0z\" fill=\"none\"/>\n",
              "    <path d=\"M18.56 5.44l.94 2.06.94-2.06 2.06-.94-2.06-.94-.94-2.06-.94 2.06-2.06.94zm-11 1L8.5 8.5l.94-2.06 2.06-.94-2.06-.94L8.5 2.5l-.94 2.06-2.06.94zm10 10l.94 2.06.94-2.06 2.06-.94-2.06-.94-.94-2.06-.94 2.06-2.06.94z\"/><path d=\"M17.41 7.96l-1.37-1.37c-.4-.4-.92-.59-1.43-.59-.52 0-1.04.2-1.43.59L10.3 9.45l-7.72 7.72c-.78.78-.78 2.05 0 2.83L4 21.41c.39.39.9.59 1.41.59.51 0 1.02-.2 1.41-.59l7.78-7.78 2.81-2.81c.8-.78.8-2.07 0-2.86zM5.41 20L4 18.59l7.72-7.72 1.47 1.35L5.41 20z\"/>\n",
              "  </svg>\n",
              "      </button>\n",
              "      \n",
              "  <style>\n",
              "    .colab-df-container {\n",
              "      display:flex;\n",
              "      flex-wrap:wrap;\n",
              "      gap: 12px;\n",
              "    }\n",
              "\n",
              "    .colab-df-convert {\n",
              "      background-color: #E8F0FE;\n",
              "      border: none;\n",
              "      border-radius: 50%;\n",
              "      cursor: pointer;\n",
              "      display: none;\n",
              "      fill: #1967D2;\n",
              "      height: 32px;\n",
              "      padding: 0 0 0 0;\n",
              "      width: 32px;\n",
              "    }\n",
              "\n",
              "    .colab-df-convert:hover {\n",
              "      background-color: #E2EBFA;\n",
              "      box-shadow: 0px 1px 2px rgba(60, 64, 67, 0.3), 0px 1px 3px 1px rgba(60, 64, 67, 0.15);\n",
              "      fill: #174EA6;\n",
              "    }\n",
              "\n",
              "    [theme=dark] .colab-df-convert {\n",
              "      background-color: #3B4455;\n",
              "      fill: #D2E3FC;\n",
              "    }\n",
              "\n",
              "    [theme=dark] .colab-df-convert:hover {\n",
              "      background-color: #434B5C;\n",
              "      box-shadow: 0px 1px 3px 1px rgba(0, 0, 0, 0.15);\n",
              "      filter: drop-shadow(0px 1px 2px rgba(0, 0, 0, 0.3));\n",
              "      fill: #FFFFFF;\n",
              "    }\n",
              "  </style>\n",
              "\n",
              "      <script>\n",
              "        const buttonEl =\n",
              "          document.querySelector('#df-955f31f2-ec20-40cf-b8ee-c61b0b7a9b4a button.colab-df-convert');\n",
              "        buttonEl.style.display =\n",
              "          google.colab.kernel.accessAllowed ? 'block' : 'none';\n",
              "\n",
              "        async function convertToInteractive(key) {\n",
              "          const element = document.querySelector('#df-955f31f2-ec20-40cf-b8ee-c61b0b7a9b4a');\n",
              "          const dataTable =\n",
              "            await google.colab.kernel.invokeFunction('convertToInteractive',\n",
              "                                                     [key], {});\n",
              "          if (!dataTable) return;\n",
              "\n",
              "          const docLinkHtml = 'Like what you see? Visit the ' +\n",
              "            '<a target=\"_blank\" href=https://colab.research.google.com/notebooks/data_table.ipynb>data table notebook</a>'\n",
              "            + ' to learn more about interactive tables.';\n",
              "          element.innerHTML = '';\n",
              "          dataTable['output_type'] = 'display_data';\n",
              "          await google.colab.output.renderOutput(dataTable, element);\n",
              "          const docLink = document.createElement('div');\n",
              "          docLink.innerHTML = docLinkHtml;\n",
              "          element.appendChild(docLink);\n",
              "        }\n",
              "      </script>\n",
              "    </div>\n",
              "  </div>\n",
              "  "
            ]
          },
          "metadata": {},
          "execution_count": 1040
        }
      ]
    },
    {
      "cell_type": "markdown",
      "source": [
        "## Plot data (select a few parameters)"
      ],
      "metadata": {
        "id": "q85Ks6Xgw2rb"
      }
    },
    {
      "cell_type": "code",
      "source": [
        "# Select Churn and Not-Churn data separately\n",
        "C = df[df.churn == 1]\n",
        "N = df[df.churn == 0]\n",
        "print(np.size(df))\n",
        "print(np.size(C))\n",
        "print(np.size(N))"
      ],
      "metadata": {
        "colab": {
          "base_uri": "https://localhost:8080/"
        },
        "id": "qvBHW9DYcA3m",
        "outputId": "c08b5593-d7ce-41a4-a866-da5c20e8f3cb"
      },
      "execution_count": 1041,
      "outputs": [
        {
          "output_type": "stream",
          "name": "stdout",
          "text": [
            "140000\n",
            "28518\n",
            "111482\n"
          ]
        }
      ]
    },
    {
      "cell_type": "code",
      "source": [
        "#Plot Churn and Not-Churn data\n",
        "plt.title(\"Churn VS Not-Churn\")\n",
        "plt.xlabel(\"age\")\n",
        "plt.ylabel(\"estimated_salary\")\n",
        "plt.scatter(C.age, C.estimated_salary, color = 'red', label = 'Churn', alpha = 0.3)\n",
        "plt.scatter(N.age, N.estimated_salary, color = 'lime', label = 'Not-Churn', alpha = 0.3)"
      ],
      "metadata": {
        "colab": {
          "base_uri": "https://localhost:8080/",
          "height": 312
        },
        "id": "_JcJipmPcmLx",
        "outputId": "d85f0c37-d082-4460-a841-f85a487a17ce"
      },
      "execution_count": 1042,
      "outputs": [
        {
          "output_type": "execute_result",
          "data": {
            "text/plain": [
              "<matplotlib.collections.PathCollection at 0x7fe6012324d0>"
            ]
          },
          "metadata": {},
          "execution_count": 1042
        },
        {
          "output_type": "display_data",
          "data": {
            "text/plain": [
              "<Figure size 432x288 with 1 Axes>"
            ],
            "image/png": "[encoded data removed]"
          },
          "metadata": {
            "needs_background": "light"
          }
        }
      ]
    },
    {
      "cell_type": "code",
      "source": [
        "#Set input x to all parameters, set y for the output\n",
        "X = df.drop([\"churn\"], axis = 1)\n",
        "y = df.churn.values\n",
        "#print(np.size(x))\n",
        "#print(np.size(y))\n",
        "print (np.shape(X))\n",
        "print (np.shape(y))"
      ],
      "metadata": {
        "colab": {
          "base_uri": "https://localhost:8080/"
        },
        "id": "3etgrMPHe87r",
        "outputId": "7d248069-2fc0-41c0-c739-292eb133297f"
      },
      "execution_count": 1043,
      "outputs": [
        {
          "output_type": "stream",
          "name": "stdout",
          "text": [
            "(10000, 13)\n",
            "(10000,)\n"
          ]
        }
      ]
    },
    {
      "cell_type": "markdown",
      "source": [
        "# Naive bayes"
      ],
      "metadata": {
        "id": "jE8JKMVDgH10"
      }
    },
    {
      "cell_type": "code",
      "source": [
        "from sklearn.naive_bayes import GaussianNB\n",
        "model = GaussianNB()\n",
        "# training the model\n",
        "model.fit(X_tran_train, y_train)"
      ],
      "metadata": {
        "colab": {
          "base_uri": "https://localhost:8080/"
        },
        "id": "50ZhBRVBfTUO",
        "outputId": "4a294892-ce26-446e-a349-b31315973854"
      },
      "execution_count": 1044,
      "outputs": [
        {
          "output_type": "execute_result",
          "data": {
            "text/plain": [
              "GaussianNB()"
            ]
          },
          "metadata": {},
          "execution_count": 1044
        }
      ]
    },
    {
      "cell_type": "code",
      "source": [
        "y_pred = model.predict(X_tran_test)"
      ],
      "metadata": {
        "id": "17jgNDHRfXXx"
      },
      "execution_count": 1045,
      "outputs": []
    },
    {
      "cell_type": "code",
      "source": [
        "print(accuracy_score(y_pred, y_test))"
      ],
      "metadata": {
        "colab": {
          "base_uri": "https://localhost:8080/"
        },
        "id": "kc3402GLfc6h",
        "outputId": "21402d9e-8f9e-4874-c738-3dbb96eab81f"
      },
      "execution_count": 1046,
      "outputs": [
        {
          "output_type": "stream",
          "name": "stdout",
          "text": [
            "0.7775\n"
          ]
        }
      ]
    },
    {
      "cell_type": "code",
      "source": [
        "from sklearn.metrics import classification_report\n",
        "print(classification_report(y_test,y_pred))"
      ],
      "metadata": {
        "colab": {
          "base_uri": "https://localhost:8080/"
        },
        "id": "TUK7oet-fyu2",
        "outputId": "7b2ee928-d7ee-4cc3-9621-3f3d5003dcae"
      },
      "execution_count": 1047,
      "outputs": [
        {
          "output_type": "stream",
          "name": "stdout",
          "text": [
            "              precision    recall  f1-score   support\n",
            "\n",
            "           0       0.88      0.83      0.86      1594\n",
            "           1       0.46      0.56      0.51       406\n",
            "\n",
            "    accuracy                           0.78      2000\n",
            "   macro avg       0.67      0.70      0.68      2000\n",
            "weighted avg       0.80      0.78      0.79      2000\n",
            "\n"
          ]
        }
      ]
    },
    {
      "cell_type": "markdown",
      "source": [
        "## Confusion matrix"
      ],
      "metadata": {
        "id": "bfNhXMVwxGa7"
      }
    },
    {
      "cell_type": "code",
      "source": [
        "#import the metrics class\n",
        "from sklearn import metrics\n",
        "\n",
        "cnf_matrix = metrics.confusion_matrix(y_test, y_pred)\n",
        "cnf_matrix"
      ],
      "metadata": {
        "colab": {
          "base_uri": "https://localhost:8080/"
        },
        "id": "kYXy4Q77gdrb",
        "outputId": "493be925-7edb-4a92-d719-840939c3481c"
      },
      "execution_count": 1048,
      "outputs": [
        {
          "output_type": "execute_result",
          "data": {
            "text/plain": [
              "array([[1326,  268],\n",
              "       [ 177,  229]])"
            ]
          },
          "metadata": {},
          "execution_count": 1048
        }
      ]
    },
    {
      "cell_type": "code",
      "source": [
        "import seaborn as sns\n",
        "class_names = [0,1]  # name of classes\n",
        "fig,ax = plt.subplots()\n",
        "tick_marks = np.arange(len(class_names))\n",
        "plt.xticks(tick_marks, class_names)\n",
        "plt.yticks(tick_marks, class_names)\n",
        "\n",
        "#create heatmaps\n",
        "sns.heatmap(pd.DataFrame(cnf_matrix), annot=True, cmap=\"YlGnBu\", fmt= 'g')\n",
        "ax.xaxis.set_label_position(\"top\")\n",
        "plt.tight_layout()\n",
        "plt.title('Confusion matrix', y=1.1)\n",
        "plt.ylabel('Actual label')\n",
        "plt.xlabel('Predicted label')"
      ],
      "metadata": {
        "colab": {
          "base_uri": "https://localhost:8080/",
          "height": 342
        },
        "id": "aHOI1bVmgkiq",
        "outputId": "18303d2e-c43a-4c52-f47e-4c700ef9d156"
      },
      "execution_count": 1049,
      "outputs": [
        {
          "output_type": "execute_result",
          "data": {
            "text/plain": [
              "Text(0.5, 257.44, 'Predicted label')"
            ]
          },
          "metadata": {},
          "execution_count": 1049
        },
        {
          "output_type": "display_data",
          "data": {
            "text/plain": [
              "<Figure size 432x288 with 2 Axes>"
            ],
            "image/png": "[encoded data removed]"
          },
          "metadata": {
            "needs_background": "light"
          }
        }
      ]
    },
    {
      "cell_type": "code",
      "source": [
        "from sklearn.metrics import roc_auc_score\n",
        "roc_auc_score(y_test, y_pred)"
      ],
      "metadata": {
        "colab": {
          "base_uri": "https://localhost:8080/"
        },
        "id": "361rEJSqhSzS",
        "outputId": "58a1ef44-0871-4b95-cae1-dd002da5ffa4"
      },
      "execution_count": 1050,
      "outputs": [
        {
          "output_type": "execute_result",
          "data": {
            "text/plain": [
              "0.6979544597659945"
            ]
          },
          "metadata": {},
          "execution_count": 1050
        }
      ]
    },
    {
      "cell_type": "code",
      "source": [
        "y_test.shape"
      ],
      "metadata": {
        "colab": {
          "base_uri": "https://localhost:8080/"
        },
        "id": "65WZDBK1gs1y",
        "outputId": "5682acde-78ce-4730-d62d-41bd680c8ff4"
      },
      "execution_count": 1051,
      "outputs": [
        {
          "output_type": "execute_result",
          "data": {
            "text/plain": [
              "(2000,)"
            ]
          },
          "metadata": {},
          "execution_count": 1051
        }
      ]
    },
    {
      "cell_type": "markdown",
      "source": [
        "## ROC curve"
      ],
      "metadata": {
        "id": "4f5I5opLxKtv"
      }
    },
    {
      "cell_type": "code",
      "source": [
        "from sklearn.metrics import roc_curve\n",
        "fpr, tpr, thresholds = roc_curve(y_test, y_pred)\n",
        "plt.figure(figsize=(5, 5))\n",
        "auc = metrics.roc_auc_score(y_test, y_pred)\n",
        "plt.plot(fpr,tpr,label=\"Model = \"+str(auc))\n",
        "plt.plot([0, 1], [0, 1], label='Random', linestyle='--')\n",
        "\n",
        "plt.xlabel('FPR')\n",
        "plt.ylabel('TPR')\n",
        "\n",
        "plt.legend(loc=4)"
      ],
      "metadata": {
        "colab": {
          "base_uri": "https://localhost:8080/",
          "height": 351
        },
        "id": "6UIlT8xehDz4",
        "outputId": "8256d6b9-cf03-4ecf-eb0b-5a0219cfb248"
      },
      "execution_count": 1052,
      "outputs": [
        {
          "output_type": "execute_result",
          "data": {
            "text/plain": [
              "<matplotlib.legend.Legend at 0x7fe601406bd0>"
            ]
          },
          "metadata": {},
          "execution_count": 1052
        },
        {
          "output_type": "display_data",
          "data": {
            "text/plain": [
              "<Figure size 360x360 with 1 Axes>"
            ],
            "image/png": "[encoded data removed]"
          },
          "metadata": {
            "needs_background": "light"
          }
        }
      ]
    },
    {
      "cell_type": "markdown",
      "source": [
        "# Logistic Regression"
      ],
      "metadata": {
        "id": "z9IM0G3wgMtJ"
      }
    },
    {
      "cell_type": "code",
      "source": [
        "from sklearn.linear_model import LogisticRegression\n",
        "logreg = LogisticRegression(random_state=7)\n",
        "logreg.fit(X_tran_train, y_train)\n",
        "y_pred = logreg.predict(X_tran_test)"
      ],
      "metadata": {
        "id": "mIqqYyaC3ajF"
      },
      "execution_count": 1053,
      "outputs": []
    },
    {
      "cell_type": "code",
      "source": [
        "print(accuracy_score(y_pred, y_test))"
      ],
      "metadata": {
        "colab": {
          "base_uri": "https://localhost:8080/"
        },
        "id": "O2q9bmFIflQ0",
        "outputId": "504a0ee5-ad3d-4fe2-8ac5-6e7d066b15e2"
      },
      "execution_count": 1054,
      "outputs": [
        {
          "output_type": "stream",
          "name": "stdout",
          "text": [
            "0.827\n"
          ]
        }
      ]
    },
    {
      "cell_type": "markdown",
      "source": [
        "## Confusion matrix"
      ],
      "metadata": {
        "id": "1zO1M-naxUeE"
      }
    },
    {
      "cell_type": "code",
      "source": [
        "#import the metrics class\n",
        "from sklearn import metrics\n",
        "\n",
        "cnf_matrix = metrics.confusion_matrix(y_test, y_pred)\n",
        "cnf_matrix"
      ],
      "metadata": {
        "colab": {
          "base_uri": "https://localhost:8080/"
        },
        "id": "paGG1wG13r-u",
        "outputId": "5482cafa-a273-44be-9d5e-7e8255299500"
      },
      "execution_count": 1055,
      "outputs": [
        {
          "output_type": "execute_result",
          "data": {
            "text/plain": [
              "array([[1540,   54],\n",
              "       [ 292,  114]])"
            ]
          },
          "metadata": {},
          "execution_count": 1055
        }
      ]
    },
    {
      "cell_type": "code",
      "source": [
        "roc_auc_score(y_test,y_pred)"
      ],
      "metadata": {
        "colab": {
          "base_uri": "https://localhost:8080/"
        },
        "id": "7PlTvHg_h7Ba",
        "outputId": "9e39fb79-3d82-45fc-9a17-acb9d684dece"
      },
      "execution_count": 1056,
      "outputs": [
        {
          "output_type": "execute_result",
          "data": {
            "text/plain": [
              "0.623455569222021"
            ]
          },
          "metadata": {},
          "execution_count": 1056
        }
      ]
    },
    {
      "cell_type": "code",
      "source": [
        "import seaborn as sns\n",
        "class_names = [0,1]  # name of classes\n",
        "fig,ax = plt.subplots()\n",
        "tick_marks = np.arange(len(class_names))\n",
        "plt.xticks(tick_marks, class_names)\n",
        "plt.yticks(tick_marks, class_names)\n",
        "\n",
        "#create heatmaps\n",
        "sns.heatmap(pd.DataFrame(cnf_matrix), annot=True, cmap=\"YlGnBu\", fmt= 'g')\n",
        "ax.xaxis.set_label_position(\"top\")\n",
        "plt.tight_layout()\n",
        "plt.title('Confusion matrix', y=1.1)\n",
        "plt.ylabel('Actual label')\n",
        "plt.xlabel('Predicted label')"
      ],
      "metadata": {
        "colab": {
          "base_uri": "https://localhost:8080/",
          "height": 342
        },
        "id": "W_hb-v1Q37jU",
        "outputId": "d9a41a60-0aa9-4243-a9bc-4118cb44ae23"
      },
      "execution_count": 1057,
      "outputs": [
        {
          "output_type": "execute_result",
          "data": {
            "text/plain": [
              "Text(0.5, 257.44, 'Predicted label')"
            ]
          },
          "metadata": {},
          "execution_count": 1057
        },
        {
          "output_type": "display_data",
          "data": {
            "text/plain": [
              "<Figure size 432x288 with 2 Axes>"
            ],
            "image/png": "[encoded data removed]"
          },
          "metadata": {
            "needs_background": "light"
          }
        }
      ]
    },
    {
      "cell_type": "code",
      "source": [
        "print(classification_report(y_test,y_pred))"
      ],
      "metadata": {
        "colab": {
          "base_uri": "https://localhost:8080/"
        },
        "id": "tzXtSa3e4iq_",
        "outputId": "f84d142a-4344-468d-dfc0-cf9490023e31"
      },
      "execution_count": 1058,
      "outputs": [
        {
          "output_type": "stream",
          "name": "stdout",
          "text": [
            "              precision    recall  f1-score   support\n",
            "\n",
            "           0       0.84      0.97      0.90      1594\n",
            "           1       0.68      0.28      0.40       406\n",
            "\n",
            "    accuracy                           0.83      2000\n",
            "   macro avg       0.76      0.62      0.65      2000\n",
            "weighted avg       0.81      0.83      0.80      2000\n",
            "\n"
          ]
        }
      ]
    },
    {
      "cell_type": "markdown",
      "source": [
        "## ROC curve"
      ],
      "metadata": {
        "id": "hWsQlod7xZfi"
      }
    },
    {
      "cell_type": "code",
      "source": [
        "y_pred_proba = logreg.predict_proba(X_tran_test)[::,1]\n",
        "plt.figure(figsize=(5, 5))\n",
        "fpr,tpr,_ = metrics.roc_curve(y_test, y_pred_proba)\n",
        "auc = metrics.roc_auc_score(y_test, y_pred_proba)\n",
        "plt.plot(fpr,tpr,label=\"Model = \"+str(auc))\n",
        "plt.plot([0, 1], [0, 1], label='Random', linestyle='--')\n",
        "plt.xlabel('FPR')\n",
        "plt.ylabel('TPR')\n",
        "plt.legend(loc=4)\n",
        "plt.show()"
      ],
      "metadata": {
        "colab": {
          "base_uri": "https://localhost:8080/",
          "height": 334
        },
        "id": "E7JeNW7B40tI",
        "outputId": "efba6713-5a88-42d0-d822-e02741484535"
      },
      "execution_count": 1059,
      "outputs": [
        {
          "output_type": "display_data",
          "data": {
            "text/plain": [
              "<Figure size 360x360 with 1 Axes>"
            ],
            "image/png": "[encoded data removed]"
          },
          "metadata": {
            "needs_background": "light"
          }
        }
      ]
    },
    {
      "cell_type": "markdown",
      "source": [
        "# Decision Tree"
      ],
      "metadata": {
        "id": "wuKltAhgkJmE"
      }
    },
    {
      "cell_type": "markdown",
      "source": [
        "## 1st Adjustment"
      ],
      "metadata": {
        "id": "1uW2LudnjPvs"
      }
    },
    {
      "cell_type": "code",
      "source": [
        "from sklearn.tree import DecisionTreeClassifier\n",
        "from sklearn import tree"
      ],
      "metadata": {
        "id": "E2dauh9OkN_E"
      },
      "execution_count": 1060,
      "outputs": []
    },
    {
      "cell_type": "code",
      "source": [
        "model = DecisionTreeClassifier(criterion='gini', max_depth = 3)"
      ],
      "metadata": {
        "id": "m5dG807BkXzm"
      },
      "execution_count": 1061,
      "outputs": []
    },
    {
      "cell_type": "code",
      "source": [
        "model.fit(X_tran_train,y_train)"
      ],
      "metadata": {
        "colab": {
          "base_uri": "https://localhost:8080/"
        },
        "id": "COyEOX6TkX3j",
        "outputId": "0b5e5655-9914-461c-8ada-629fdaa2dbcf"
      },
      "execution_count": 1062,
      "outputs": [
        {
          "output_type": "execute_result",
          "data": {
            "text/plain": [
              "DecisionTreeClassifier(max_depth=3)"
            ]
          },
          "metadata": {},
          "execution_count": 1062
        }
      ]
    },
    {
      "cell_type": "code",
      "source": [
        "y_pred = model.predict(X_tran_test)"
      ],
      "metadata": {
        "id": "VmnV7KbDkdzE"
      },
      "execution_count": 1063,
      "outputs": []
    },
    {
      "cell_type": "code",
      "source": [
        "print(accuracy_score(y_test, y_pred))"
      ],
      "metadata": {
        "colab": {
          "base_uri": "https://localhost:8080/"
        },
        "id": "KQytIWd8gNSQ",
        "outputId": "807648cd-9039-4288-9854-3ab4be50003c"
      },
      "execution_count": 1064,
      "outputs": [
        {
          "output_type": "stream",
          "name": "stdout",
          "text": [
            "0.835\n"
          ]
        }
      ]
    },
    {
      "cell_type": "code",
      "source": [
        "roc_auc_score(y_test, y_pred)"
      ],
      "metadata": {
        "colab": {
          "base_uri": "https://localhost:8080/"
        },
        "id": "6jQwSzgQipTa",
        "outputId": "3c498397-746d-4bea-e67f-a412002ac87b"
      },
      "execution_count": 1065,
      "outputs": [
        {
          "output_type": "execute_result",
          "data": {
            "text/plain": [
              "0.6220494341465224"
            ]
          },
          "metadata": {},
          "execution_count": 1065
        }
      ]
    },
    {
      "cell_type": "code",
      "source": [
        "print(classification_report(y_test,y_pred))"
      ],
      "metadata": {
        "colab": {
          "base_uri": "https://localhost:8080/"
        },
        "id": "kYhfWZw2irok",
        "outputId": "d0eec92c-6528-4053-d81c-7cfa471f3ec1"
      },
      "execution_count": 1066,
      "outputs": [
        {
          "output_type": "stream",
          "name": "stdout",
          "text": [
            "              precision    recall  f1-score   support\n",
            "\n",
            "           0       0.84      0.98      0.90      1594\n",
            "           1       0.78      0.26      0.39       406\n",
            "\n",
            "    accuracy                           0.83      2000\n",
            "   macro avg       0.81      0.62      0.65      2000\n",
            "weighted avg       0.83      0.83      0.80      2000\n",
            "\n"
          ]
        }
      ]
    },
    {
      "cell_type": "markdown",
      "source": [
        "### Plot Tree"
      ],
      "metadata": {
        "id": "71XlH7cixfiN"
      }
    },
    {
      "cell_type": "code",
      "source": [
        "tree.plot_tree(model.fit(X_tran_test,y_test))\n",
        "plt.show()"
      ],
      "metadata": {
        "colab": {
          "base_uri": "https://localhost:8080/",
          "height": 248
        },
        "id": "Qwxru7Kekhok",
        "outputId": "46461dfc-b2c1-494b-fb3d-70afdd0e9b4e"
      },
      "execution_count": 1067,
      "outputs": [
        {
          "output_type": "display_data",
          "data": {
            "text/plain": [
              "<Figure size 432x288 with 1 Axes>"
            ],
            "image/png": "[encoded data removed]"
          },
          "metadata": {
            "needs_background": "light"
          }
        }
      ]
    },
    {
      "cell_type": "markdown",
      "source": [
        "### Confusion matrix"
      ],
      "metadata": {
        "id": "SrQixrPGxqLB"
      }
    },
    {
      "cell_type": "code",
      "source": [
        "#import the metrics class\n",
        "#import Confusion metrics\n",
        "from sklearn import metrics\n",
        "\n",
        "cnf_matrix = metrics.confusion_matrix(y_test, y_pred)\n",
        "cnf_matrix"
      ],
      "metadata": {
        "colab": {
          "base_uri": "https://localhost:8080/"
        },
        "id": "CvXFvWiHmFz1",
        "outputId": "ed20e2ef-6a09-4979-8e3a-47aa3c188ad2"
      },
      "execution_count": 1068,
      "outputs": [
        {
          "output_type": "execute_result",
          "data": {
            "text/plain": [
              "array([[1563,   31],\n",
              "       [ 299,  107]])"
            ]
          },
          "metadata": {},
          "execution_count": 1068
        }
      ]
    },
    {
      "cell_type": "code",
      "source": [
        "import seaborn as sns\n",
        "class_names = [0,1]  # name of classes\n",
        "fig,ax = plt.subplots()\n",
        "tick_marks = np.arange(len(class_names))\n",
        "plt.xticks(tick_marks, class_names)\n",
        "plt.yticks(tick_marks, class_names)\n",
        "\n",
        "#create heatmaps\n",
        "sns.heatmap(pd.DataFrame(cnf_matrix), annot=True, cmap=\"YlGnBu\", fmt= 'g')\n",
        "ax.xaxis.set_label_position(\"top\")\n",
        "plt.tight_layout()\n",
        "plt.title('Confusion matrix', y=1.1)\n",
        "plt.ylabel('Actual label')\n",
        "plt.xlabel('Predicted label')"
      ],
      "metadata": {
        "colab": {
          "base_uri": "https://localhost:8080/",
          "height": 342
        },
        "id": "-HBDnMlcgCLc",
        "outputId": "b18222bc-cf44-4915-c7cd-11144a31f25f"
      },
      "execution_count": 1069,
      "outputs": [
        {
          "output_type": "execute_result",
          "data": {
            "text/plain": [
              "Text(0.5, 257.44, 'Predicted label')"
            ]
          },
          "metadata": {},
          "execution_count": 1069
        },
        {
          "output_type": "display_data",
          "data": {
            "text/plain": [
              "<Figure size 432x288 with 2 Axes>"
            ],
            "image/png": "[encoded data removed]"
          },
          "metadata": {
            "needs_background": "light"
          }
        }
      ]
    },
    {
      "cell_type": "markdown",
      "source": [
        "### ROC curve"
      ],
      "metadata": {
        "id": "B9PqPhumxtJm"
      }
    },
    {
      "cell_type": "code",
      "source": [
        "y_pred_proba = model.predict_proba(X_tran_test)[::,1]\n",
        "plt.figure(figsize=(5, 5))\n",
        "fpr,tpr,_ = metrics.roc_curve(y_test, y_pred_proba)\n",
        "auc = metrics.roc_auc_score(y_test, y_pred_proba)\n",
        "plt.plot(fpr,tpr,label=\"Model,auc = \"+str(auc))\n",
        "plt.plot([0, 1], [0, 1], label='Random', linestyle='--')\n",
        "plt.xlabel('FPR')\n",
        "plt.ylabel('TPR')\n",
        "plt.legend(loc=4)\n",
        "plt.show()"
      ],
      "metadata": {
        "id": "SKltutxQmtAC",
        "colab": {
          "base_uri": "https://localhost:8080/",
          "height": 334
        },
        "outputId": "d1faae95-edde-45ef-dbef-dc0b89356b86"
      },
      "execution_count": 1070,
      "outputs": [
        {
          "output_type": "display_data",
          "data": {
            "text/plain": [
              "<Figure size 360x360 with 1 Axes>"
            ],
            "image/png": "[encoded data removed]"
          },
          "metadata": {
            "needs_background": "light"
          }
        }
      ]
    },
    {
      "cell_type": "markdown",
      "source": [
        "## 2nd Adjustment"
      ],
      "metadata": {
        "id": "8GnMkwnDj60r"
      }
    },
    {
      "cell_type": "code",
      "source": [
        "model = DecisionTreeClassifier(criterion='gini', max_depth = 5)"
      ],
      "metadata": {
        "id": "r_YD-vz9njaU"
      },
      "execution_count": 1071,
      "outputs": []
    },
    {
      "cell_type": "code",
      "source": [
        "model.fit(X_tran_train,y_train)"
      ],
      "metadata": {
        "colab": {
          "base_uri": "https://localhost:8080/"
        },
        "id": "AhyZRE2snlR0",
        "outputId": "a9cdc4e5-b3d8-4427-88f2-120e4edf5317"
      },
      "execution_count": 1072,
      "outputs": [
        {
          "output_type": "execute_result",
          "data": {
            "text/plain": [
              "DecisionTreeClassifier(max_depth=5)"
            ]
          },
          "metadata": {},
          "execution_count": 1072
        }
      ]
    },
    {
      "cell_type": "code",
      "source": [
        "y_pred = model.predict(X_tran_test)"
      ],
      "metadata": {
        "id": "KFJ6Y1eynnbF"
      },
      "execution_count": 1073,
      "outputs": []
    },
    {
      "cell_type": "code",
      "source": [
        "print(accuracy_score(y_test, y_pred))"
      ],
      "metadata": {
        "colab": {
          "base_uri": "https://localhost:8080/"
        },
        "id": "ZMzCdJo2nrg0",
        "outputId": "c904b1c2-4598-43e6-abd2-6457dfa732e5"
      },
      "execution_count": 1074,
      "outputs": [
        {
          "output_type": "stream",
          "name": "stdout",
          "text": [
            "0.849\n"
          ]
        }
      ]
    },
    {
      "cell_type": "code",
      "source": [
        "roc_auc_score(y_test, y_pred)"
      ],
      "metadata": {
        "colab": {
          "base_uri": "https://localhost:8080/"
        },
        "id": "kJ4IIgTsntSs",
        "outputId": "887d3a18-95d6-40ec-b4d8-7f5ecffdaffb"
      },
      "execution_count": 1075,
      "outputs": [
        {
          "output_type": "execute_result",
          "data": {
            "text/plain": [
              "0.6583678943822585"
            ]
          },
          "metadata": {},
          "execution_count": 1075
        }
      ]
    },
    {
      "cell_type": "code",
      "source": [
        "print(classification_report(y_test,y_pred))"
      ],
      "metadata": {
        "colab": {
          "base_uri": "https://localhost:8080/"
        },
        "id": "gYzqGyJ3nvCm",
        "outputId": "52c4e094-fd8e-4dd4-a870-17c27895ffdd"
      },
      "execution_count": 1076,
      "outputs": [
        {
          "output_type": "stream",
          "name": "stdout",
          "text": [
            "              precision    recall  f1-score   support\n",
            "\n",
            "           0       0.85      0.98      0.91      1594\n",
            "           1       0.81      0.34      0.48       406\n",
            "\n",
            "    accuracy                           0.85      2000\n",
            "   macro avg       0.83      0.66      0.69      2000\n",
            "weighted avg       0.84      0.85      0.82      2000\n",
            "\n"
          ]
        }
      ]
    },
    {
      "cell_type": "markdown",
      "source": [
        "### Plot Tree"
      ],
      "metadata": {
        "id": "__nXruT7xzeD"
      }
    },
    {
      "cell_type": "code",
      "source": [
        "tree.plot_tree(model.fit(X_tran_test,y_test))\n",
        "plt.show()"
      ],
      "metadata": {
        "colab": {
          "base_uri": "https://localhost:8080/",
          "height": 248
        },
        "id": "1UEVkIs8nxwk",
        "outputId": "4c49e9ea-5aeb-4137-9e7a-2b3392f91bba"
      },
      "execution_count": 1077,
      "outputs": [
        {
          "output_type": "display_data",
          "data": {
            "text/plain": [
              "<Figure size 432x288 with 1 Axes>"
            ],
            "image/png": "[encoded data removed]"
          },
          "metadata": {
            "needs_background": "light"
          }
        }
      ]
    },
    {
      "cell_type": "markdown",
      "source": [
        "### Confusion matrix"
      ],
      "metadata": {
        "id": "28T06Zvmx6cx"
      }
    },
    {
      "cell_type": "code",
      "source": [
        "#import Confusion metrics\n",
        "\n",
        "cnf_matrix = metrics.confusion_matrix(y_test, y_pred)\n",
        "cnf_matrix"
      ],
      "metadata": {
        "colab": {
          "base_uri": "https://localhost:8080/"
        },
        "id": "GDpNUmnEnzPg",
        "outputId": "dec008e5-8f3b-4703-90d7-f33d050104e5"
      },
      "execution_count": 1078,
      "outputs": [
        {
          "output_type": "execute_result",
          "data": {
            "text/plain": [
              "array([[1561,   33],\n",
              "       [ 269,  137]])"
            ]
          },
          "metadata": {},
          "execution_count": 1078
        }
      ]
    },
    {
      "cell_type": "code",
      "source": [
        "class_names = [0,1]  # name of classes\n",
        "fig,ax = plt.subplots()\n",
        "tick_marks = np.arange(len(class_names))\n",
        "plt.xticks(tick_marks, class_names)\n",
        "plt.yticks(tick_marks, class_names)\n",
        "\n",
        "#create heatmaps\n",
        "sns.heatmap(pd.DataFrame(cnf_matrix), annot=True, cmap=\"YlGnBu\", fmt= 'g')\n",
        "ax.xaxis.set_label_position(\"top\")\n",
        "plt.tight_layout()\n",
        "plt.title('Confusion matrix', y=1.1)\n",
        "plt.ylabel('Actual label')\n",
        "plt.xlabel('Predicted label')"
      ],
      "metadata": {
        "colab": {
          "base_uri": "https://localhost:8080/",
          "height": 342
        },
        "id": "P_l3oZ5En0hJ",
        "outputId": "678a5ff9-aea6-4f71-af1d-cf29fff7c243"
      },
      "execution_count": 1079,
      "outputs": [
        {
          "output_type": "execute_result",
          "data": {
            "text/plain": [
              "Text(0.5, 257.44, 'Predicted label')"
            ]
          },
          "metadata": {},
          "execution_count": 1079
        },
        {
          "output_type": "display_data",
          "data": {
            "text/plain": [
              "<Figure size 432x288 with 2 Axes>"
            ],
            "image/png": "[encoded data removed]"
          },
          "metadata": {
            "needs_background": "light"
          }
        }
      ]
    },
    {
      "cell_type": "markdown",
      "source": [
        "### ROC curve"
      ],
      "metadata": {
        "id": "LiWqw_e0x9qK"
      }
    },
    {
      "cell_type": "code",
      "source": [
        "y_pred_proba = model.predict_proba(X_tran_test)[::,1]\n",
        "plt.figure(figsize=(5, 5))\n",
        "fpr,tpr,_ = metrics.roc_curve(y_test, y_pred_proba)\n",
        "auc = metrics.roc_auc_score(y_test, y_pred_proba)\n",
        "plt.plot(fpr,tpr,label=\"Model,auc = \"+str(auc))\n",
        "plt.plot([0, 1], [0, 1], label='Random', linestyle='--')\n",
        "plt.xlabel('FPR')\n",
        "plt.ylabel('TPR')\n",
        "plt.legend(loc=4)\n",
        "plt.show()"
      ],
      "metadata": {
        "colab": {
          "base_uri": "https://localhost:8080/",
          "height": 334
        },
        "id": "m1-vnkk-n2hR",
        "outputId": "b09f30fa-ebc4-43af-c52e-44a1728a0ba5"
      },
      "execution_count": 1080,
      "outputs": [
        {
          "output_type": "display_data",
          "data": {
            "text/plain": [
              "<Figure size 360x360 with 1 Axes>"
            ],
            "image/png": "[encoded data removed]"
          },
          "metadata": {
            "needs_background": "light"
          }
        }
      ]
    },
    {
      "cell_type": "markdown",
      "source": [
        "## Final Adjustment"
      ],
      "metadata": {
        "id": "I3vOpLuyj-I9"
      }
    },
    {
      "cell_type": "code",
      "source": [
        "model = DecisionTreeClassifier(criterion='gini', max_depth = 17)"
      ],
      "metadata": {
        "id": "QSOlTgVZoX1t"
      },
      "execution_count": 1081,
      "outputs": []
    },
    {
      "cell_type": "code",
      "source": [
        "model.fit(X_tran_train,y_train)"
      ],
      "metadata": {
        "colab": {
          "base_uri": "https://localhost:8080/"
        },
        "id": "qnMndRxhobTM",
        "outputId": "094260ee-7a9c-4057-91a5-6e5eab191275"
      },
      "execution_count": 1082,
      "outputs": [
        {
          "output_type": "execute_result",
          "data": {
            "text/plain": [
              "DecisionTreeClassifier(max_depth=17)"
            ]
          },
          "metadata": {},
          "execution_count": 1082
        }
      ]
    },
    {
      "cell_type": "code",
      "source": [
        "y_pred = model.predict(X_tran_test)"
      ],
      "metadata": {
        "id": "USV6nhzToc2y"
      },
      "execution_count": 1083,
      "outputs": []
    },
    {
      "cell_type": "code",
      "source": [
        "print(accuracy_score(y_test, y_pred))"
      ],
      "metadata": {
        "colab": {
          "base_uri": "https://localhost:8080/"
        },
        "id": "dRkfdnZqoe-q",
        "outputId": "5caad570-ad06-4f2c-a839-87de991f2e90"
      },
      "execution_count": 1084,
      "outputs": [
        {
          "output_type": "stream",
          "name": "stdout",
          "text": [
            "0.814\n"
          ]
        }
      ]
    },
    {
      "cell_type": "code",
      "source": [
        "roc_auc_score(y_test, y_pred)"
      ],
      "metadata": {
        "colab": {
          "base_uri": "https://localhost:8080/"
        },
        "id": "_3VpwDHsohDv",
        "outputId": "7730adbc-fec3-4dcb-a11d-d77bfb02eb1c"
      },
      "execution_count": 1085,
      "outputs": [
        {
          "output_type": "execute_result",
          "data": {
            "text/plain": [
              "0.7080029173439808"
            ]
          },
          "metadata": {},
          "execution_count": 1085
        }
      ]
    },
    {
      "cell_type": "code",
      "source": [
        "print(classification_report(y_test,y_pred))"
      ],
      "metadata": {
        "colab": {
          "base_uri": "https://localhost:8080/"
        },
        "id": "-hJ027zXoi3i",
        "outputId": "83bc1da4-0cfb-4339-d970-5e035ba587c5"
      },
      "execution_count": 1086,
      "outputs": [
        {
          "output_type": "stream",
          "name": "stdout",
          "text": [
            "              precision    recall  f1-score   support\n",
            "\n",
            "           0       0.88      0.89      0.88      1594\n",
            "           1       0.54      0.53      0.54       406\n",
            "\n",
            "    accuracy                           0.81      2000\n",
            "   macro avg       0.71      0.71      0.71      2000\n",
            "weighted avg       0.81      0.81      0.81      2000\n",
            "\n"
          ]
        }
      ]
    },
    {
      "cell_type": "markdown",
      "source": [
        "### Plot Tree"
      ],
      "metadata": {
        "id": "AgisTcwGyA5e"
      }
    },
    {
      "cell_type": "code",
      "source": [
        "tree.plot_tree(model.fit(X_tran_test,y_test))\n",
        "plt.show()"
      ],
      "metadata": {
        "colab": {
          "base_uri": "https://localhost:8080/",
          "height": 248
        },
        "id": "exoCGP9eokrS",
        "outputId": "822a05d6-b399-4a3c-d8e8-b8276e938a86"
      },
      "execution_count": 1087,
      "outputs": [
        {
          "output_type": "display_data",
          "data": {
            "text/plain": [
              "<Figure size 432x288 with 1 Axes>"
            ],
            "image/png": "[encoded data removed]"
          },
          "metadata": {
            "needs_background": "light"
          }
        }
      ]
    },
    {
      "cell_type": "markdown",
      "source": [
        "### Confusion matrix"
      ],
      "metadata": {
        "id": "N4nBjPSVyFyH"
      }
    },
    {
      "cell_type": "code",
      "source": [
        "#import Confusion metrics\n",
        "\n",
        "cnf_matrix = metrics.confusion_matrix(y_test, y_pred)\n",
        "cnf_matrix"
      ],
      "metadata": {
        "colab": {
          "base_uri": "https://localhost:8080/"
        },
        "id": "fBk3X_xMonEZ",
        "outputId": "fe59808c-fa2f-4003-dbc4-fdcc3e698b57"
      },
      "execution_count": 1088,
      "outputs": [
        {
          "output_type": "execute_result",
          "data": {
            "text/plain": [
              "array([[1413,  181],\n",
              "       [ 191,  215]])"
            ]
          },
          "metadata": {},
          "execution_count": 1088
        }
      ]
    },
    {
      "cell_type": "code",
      "source": [
        "class_names = [0,1]  # name of classes\n",
        "fig,ax = plt.subplots()\n",
        "tick_marks = np.arange(len(class_names))\n",
        "plt.xticks(tick_marks, class_names)\n",
        "plt.yticks(tick_marks, class_names)\n",
        "\n",
        "#create heatmaps\n",
        "sns.heatmap(pd.DataFrame(cnf_matrix), annot=True, cmap=\"YlGnBu\", fmt= 'g')\n",
        "ax.xaxis.set_label_position(\"top\")\n",
        "plt.tight_layout()\n",
        "plt.title('Confusion matrix', y=1.1)\n",
        "plt.ylabel('Actual label')\n",
        "plt.xlabel('Predicted label')"
      ],
      "metadata": {
        "colab": {
          "base_uri": "https://localhost:8080/",
          "height": 341
        },
        "id": "HG2Yj0hqoqLt",
        "outputId": "67822dda-c8fa-47b2-f8d2-ffcf72d99425"
      },
      "execution_count": 1089,
      "outputs": [
        {
          "output_type": "execute_result",
          "data": {
            "text/plain": [
              "Text(0.5, 257.44, 'Predicted label')"
            ]
          },
          "metadata": {},
          "execution_count": 1089
        },
        {
          "output_type": "display_data",
          "data": {
            "text/plain": [
              "<Figure size 432x288 with 2 Axes>"
            ],
            "image/png": "[encoded data removed]"
          },
          "metadata": {
            "needs_background": "light"
          }
        }
      ]
    },
    {
      "cell_type": "markdown",
      "source": [
        "### ROC curve"
      ],
      "metadata": {
        "id": "Z9iQNjb4yJox"
      }
    },
    {
      "cell_type": "code",
      "source": [
        "y_pred_proba = model.predict_proba(X_tran_test)[::,1]\n",
        "plt.figure(figsize=(5, 5))\n",
        "fpr,tpr,_ = metrics.roc_curve(y_test, y_pred_proba)\n",
        "auc = metrics.roc_auc_score(y_test, y_pred_proba)\n",
        "plt.plot(fpr,tpr,label=\"Model,auc = \"+str(auc))\n",
        "plt.plot([0, 1], [0, 1], label='Random', linestyle='--')\n",
        "plt.xlabel('FPR')\n",
        "plt.ylabel('TPR')\n",
        "plt.legend(loc=4)\n",
        "plt.show()"
      ],
      "metadata": {
        "colab": {
          "base_uri": "https://localhost:8080/",
          "height": 334
        },
        "id": "YdBXXQf-osbX",
        "outputId": "be642e74-f665-4677-d904-84a1b51a0e07"
      },
      "execution_count": 1090,
      "outputs": [
        {
          "output_type": "display_data",
          "data": {
            "text/plain": [
              "<Figure size 360x360 with 1 Axes>"
            ],
            "image/png": "[encoded data removed]"
          },
          "metadata": {
            "needs_background": "light"
          }
        }
      ]
    },
    {
      "cell_type": "markdown",
      "source": [
        "# Conclusion"
      ],
      "metadata": {
        "id": "FKY_2KNVpu0B"
      }
    },
    {
      "cell_type": "markdown",
      "source": [
        "These experiments consisted of 3 models.\n",
        "1. Naive bayes\n",
        "- precision (0) =  0.88\n",
        "- precision (1) =  0.46\n",
        "- recall (0) =  0.83\n",
        "- recall (1) = 0.56\n",
        "- f1-score (0) = 0.86\n",
        "- f1-score (1) = 0.51\n",
        "- accuracy = 0.78\n",
        "\n",
        "2. Logistic Regression\n",
        "- precision (0) =  0.84\n",
        "- precision (1) =  0.68\n",
        "- recall (0) =  0.97\n",
        "- recall (1) = 0.28\n",
        "- f1-score (0) = 0.90\n",
        "- f1-score (1) = 0.40\n",
        "- accuracy = 0.83\n",
        "\n",
        "3. Decision Tree (Final Adjustment)\n",
        "- precision (0) =  0.88\n",
        "- precision (1) =  0.54\n",
        "- recall (0) =  0.89\n",
        "- recall (1) = 0.53\n",
        "- f1-score (0) = 0.88\n",
        "- f1-score (1) = 0.54\n",
        "- accuracy = 0.81\n",
        "\n",
        "The best model of 3 is the Decision Tree with max_depth = 17, because this model has high accuracy and has the highest AUC value, AUC = 1."
      ],
      "metadata": {
        "id": "7uQBKI0opet-"
      }
    }
  ]
}